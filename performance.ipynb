{
 "cells": [
  {
   "cell_type": "markdown",
   "id": "f03c0779",
   "metadata": {},
   "source": [
    "# *Student Performances Data Analysis*"
   ]
  },
  {
   "cell_type": "markdown",
   "id": "5ad12ec2",
   "metadata": {},
   "source": [
    "## **Database Connection and Data Loading**"
   ]
  },
  {
   "cell_type": "code",
   "execution_count": 1,
   "id": "55afaab5",
   "metadata": {},
   "outputs": [],
   "source": [
    "import pandas as pd\n",
    "import numpy as np\n",
    "import matplotlib.pyplot as plt\n",
    "import seaborn as sns\n",
    "import scipy.stats as stats\n",
    "\n",
    "from urllib.parse import quote_plus\n",
    "import sqlalchemy\n",
    "import psycopg2"
   ]
  },
  {
   "cell_type": "code",
   "execution_count": 2,
   "id": "d309fec9",
   "metadata": {},
   "outputs": [],
   "source": [
    "username = 'root'     \n",
    "password = quote_plus('Data130506!')\n",
    "host = 'localhost'       \n",
    "port = '3306'            \n",
    "database = 'student_performance'  \n",
    "connection_str = f\"mysql+pymysql://{username}:{password}@{host}:{port}/{database}\"\n",
    "\n",
    "engine = sqlalchemy.create_engine(connection_str)\n"
   ]
  },
  {
   "cell_type": "code",
   "execution_count": 3,
   "id": "756c80e1",
   "metadata": {},
   "outputs": [],
   "source": [
    "attendance = pd.read_sql(\"SELECT * FROM attendance\", con=engine)\n",
    "homework = pd.read_sql(\"SELECT * FROM homework\", con=engine)\n",
    "performance = pd.read_sql(\"SELECT * FROM performance\", con=engine)\n",
    "communication = pd.read_sql(\"SELECT * FROM communication\", con=engine)\n",
    "students = pd.read_sql(\"SELECT * FROM students\", con=engine)"
   ]
  },
  {
   "cell_type": "markdown",
   "id": "2e7d6735",
   "metadata": {},
   "source": [
    "## **Data Cleaning and Preparation**"
   ]
  },
  {
   "cell_type": "markdown",
   "id": "877bfc2c",
   "metadata": {},
   "source": [
    "### **Attendance dataset**"
   ]
  },
  {
   "cell_type": "code",
   "execution_count": 4,
   "id": "dbb69bdb",
   "metadata": {},
   "outputs": [
    {
     "data": {
      "text/html": [
       "<div>\n",
       "<style scoped>\n",
       "    .dataframe tbody tr th:only-of-type {\n",
       "        vertical-align: middle;\n",
       "    }\n",
       "\n",
       "    .dataframe tbody tr th {\n",
       "        vertical-align: top;\n",
       "    }\n",
       "\n",
       "    .dataframe thead th {\n",
       "        text-align: right;\n",
       "    }\n",
       "</style>\n",
       "<table border=\"1\" class=\"dataframe\">\n",
       "  <thead>\n",
       "    <tr style=\"text-align: right;\">\n",
       "      <th></th>\n",
       "      <th>student_id</th>\n",
       "      <th>date</th>\n",
       "      <th>subject</th>\n",
       "      <th>attendance_status</th>\n",
       "    </tr>\n",
       "  </thead>\n",
       "  <tbody>\n",
       "    <tr>\n",
       "      <th>66090</th>\n",
       "      <td>S00693</td>\n",
       "      <td>2024-11-15</td>\n",
       "      <td>English</td>\n",
       "      <td>late</td>\n",
       "    </tr>\n",
       "    <tr>\n",
       "      <th>136364</th>\n",
       "      <td>S05951</td>\n",
       "      <td>2024-06-20</td>\n",
       "      <td>Math</td>\n",
       "      <td>Absent</td>\n",
       "    </tr>\n",
       "    <tr>\n",
       "      <th>197074</th>\n",
       "      <td>S02392</td>\n",
       "      <td>2024-09-18</td>\n",
       "      <td>History</td>\n",
       "      <td>PRESENT</td>\n",
       "    </tr>\n",
       "    <tr>\n",
       "      <th>64274</th>\n",
       "      <td>S07006</td>\n",
       "      <td>2024-08-24</td>\n",
       "      <td>Science</td>\n",
       "      <td>Late</td>\n",
       "    </tr>\n",
       "    <tr>\n",
       "      <th>231510</th>\n",
       "      <td>S11984</td>\n",
       "      <td>2024-04-20</td>\n",
       "      <td>Geography</td>\n",
       "      <td>left early</td>\n",
       "    </tr>\n",
       "  </tbody>\n",
       "</table>\n",
       "</div>"
      ],
      "text/plain": [
       "       student_id        date    subject attendance_status\n",
       "66090      S00693  2024-11-15    English              late\n",
       "136364     S05951  2024-06-20       Math            Absent\n",
       "197074     S02392  2024-09-18    History          PRESENT \n",
       "64274      S07006  2024-08-24    Science              Late\n",
       "231510     S11984  2024-04-20  Geography        left early"
      ]
     },
     "execution_count": 4,
     "metadata": {},
     "output_type": "execute_result"
    }
   ],
   "source": [
    "attendance.sample(5)"
   ]
  },
  {
   "cell_type": "code",
   "execution_count": 5,
   "id": "f05408be",
   "metadata": {},
   "outputs": [
    {
     "name": "stdout",
     "output_type": "stream",
     "text": [
      "<class 'pandas.core.frame.DataFrame'>\n",
      "RangeIndex: 364680 entries, 0 to 364679\n",
      "Data columns (total 4 columns):\n",
      " #   Column             Non-Null Count   Dtype \n",
      "---  ------             --------------   ----- \n",
      " 0   student_id         364680 non-null  object\n",
      " 1   date               364680 non-null  object\n",
      " 2   subject            364680 non-null  object\n",
      " 3   attendance_status  364680 non-null  object\n",
      "dtypes: object(4)\n",
      "memory usage: 11.1+ MB\n"
     ]
    }
   ],
   "source": [
    "attendance.info()"
   ]
  },
  {
   "cell_type": "markdown",
   "id": "9044f2b2",
   "metadata": {},
   "source": [
    "#### Clean mixed date formats with `pd.to_datetime`"
   ]
  },
  {
   "cell_type": "code",
   "execution_count": 6,
   "id": "6cbccd62",
   "metadata": {},
   "outputs": [],
   "source": [
    "attendance['date'] = pd.to_datetime(attendance['date'], format='mixed', dayfirst=True)"
   ]
  },
  {
   "cell_type": "code",
   "execution_count": 7,
   "id": "f0745afb",
   "metadata": {},
   "outputs": [
    {
     "data": {
      "text/plain": [
       "0"
      ]
     },
     "execution_count": 7,
     "metadata": {},
     "output_type": "execute_result"
    }
   ],
   "source": [
    "attendance['date'].isna().sum()"
   ]
  },
  {
   "cell_type": "markdown",
   "id": "c46b1a45",
   "metadata": {},
   "source": [
    "#### Fix inconsistent attendance statuses using a custom cleaning function"
   ]
  },
  {
   "cell_type": "code",
   "execution_count": 8,
   "id": "a97b394b",
   "metadata": {},
   "outputs": [
    {
     "data": {
      "text/plain": [
       "array(['Present', 'PRESENT ', 'excused', ' late', 'Absent', 'left early',\n",
       "       'Late', 'absnt'], dtype=object)"
      ]
     },
     "execution_count": 8,
     "metadata": {},
     "output_type": "execute_result"
    }
   ],
   "source": [
    "attendance['attendance_status'].unique()"
   ]
  },
  {
   "cell_type": "code",
   "execution_count": 9,
   "id": "10114910",
   "metadata": {},
   "outputs": [],
   "source": [
    "attendance['attendance_status'] = attendance['attendance_status'].str.strip()\n"
   ]
  },
  {
   "cell_type": "code",
   "execution_count": 10,
   "id": "9fb92362",
   "metadata": {},
   "outputs": [],
   "source": [
    "def attendance_status(x):\n",
    "    if x == 'late':\n",
    "        return 'Late'\n",
    "    elif x == 'absnt':\n",
    "        return 'Absent'\n",
    "    elif x == 'PRESENT':\n",
    "        return 'Present'\n",
    "    elif x == 'excused':\n",
    "        return 'Excused'\n",
    "    elif x == 'left early':\n",
    "        return 'Left Early'\n",
    "    else:\n",
    "        return x"
   ]
  },
  {
   "cell_type": "code",
   "execution_count": 11,
   "id": "deedc21a",
   "metadata": {},
   "outputs": [],
   "source": [
    "attendance['attendance_status'] = attendance['attendance_status'].apply(attendance_status)"
   ]
  },
  {
   "cell_type": "code",
   "execution_count": 12,
   "id": "9c1f30e2",
   "metadata": {},
   "outputs": [
    {
     "data": {
      "text/plain": [
       "array(['Present', 'Excused', 'Late', 'Absent', 'Left Early'], dtype=object)"
      ]
     },
     "execution_count": 12,
     "metadata": {},
     "output_type": "execute_result"
    }
   ],
   "source": [
    "attendance['attendance_status'].unique()"
   ]
  },
  {
   "cell_type": "markdown",
   "id": "a206bf1a",
   "metadata": {},
   "source": [
    "### **Homework dataset**"
   ]
  },
  {
   "cell_type": "code",
   "execution_count": 13,
   "id": "265ab1d4",
   "metadata": {},
   "outputs": [
    {
     "data": {
      "text/html": [
       "<div>\n",
       "<style scoped>\n",
       "    .dataframe tbody tr th:only-of-type {\n",
       "        vertical-align: middle;\n",
       "    }\n",
       "\n",
       "    .dataframe tbody tr th {\n",
       "        vertical-align: top;\n",
       "    }\n",
       "\n",
       "    .dataframe thead th {\n",
       "        text-align: right;\n",
       "    }\n",
       "</style>\n",
       "<table border=\"1\" class=\"dataframe\">\n",
       "  <thead>\n",
       "    <tr style=\"text-align: right;\">\n",
       "      <th></th>\n",
       "      <th>student_id</th>\n",
       "      <th>subject</th>\n",
       "      <th>assignment_name</th>\n",
       "      <th>due_date</th>\n",
       "      <th>status</th>\n",
       "      <th>grade_feedback</th>\n",
       "      <th>guardian_signature</th>\n",
       "    </tr>\n",
       "  </thead>\n",
       "  <tbody>\n",
       "    <tr>\n",
       "      <th>56782</th>\n",
       "      <td>S02559</td>\n",
       "      <td>English</td>\n",
       "      <td>Get case.</td>\n",
       "      <td>2024-09-10</td>\n",
       "      <td>✔</td>\n",
       "      <td>A+</td>\n",
       "      <td>No</td>\n",
       "    </tr>\n",
       "    <tr>\n",
       "      <th>32370</th>\n",
       "      <td>S09942</td>\n",
       "      <td>Arabic</td>\n",
       "      <td>Offer teach teacher.</td>\n",
       "      <td>2025-02-19</td>\n",
       "      <td>✅</td>\n",
       "      <td>A</td>\n",
       "      <td>No</td>\n",
       "    </tr>\n",
       "    <tr>\n",
       "      <th>35394</th>\n",
       "      <td>S10590</td>\n",
       "      <td>English</td>\n",
       "      <td>Imagine claim first get.</td>\n",
       "      <td>2025-01-30</td>\n",
       "      <td>pending</td>\n",
       "      <td>C</td>\n",
       "      <td></td>\n",
       "    </tr>\n",
       "    <tr>\n",
       "      <th>47413</th>\n",
       "      <td>S08536</td>\n",
       "      <td>Arabic</td>\n",
       "      <td>Accept population.</td>\n",
       "      <td>2025-02-11</td>\n",
       "      <td>pending</td>\n",
       "      <td>D</td>\n",
       "      <td>Yes</td>\n",
       "    </tr>\n",
       "    <tr>\n",
       "      <th>2920</th>\n",
       "      <td>S11624</td>\n",
       "      <td>History</td>\n",
       "      <td>Condition his hear.</td>\n",
       "      <td>2024-11-25</td>\n",
       "      <td>not done</td>\n",
       "      <td>D</td>\n",
       "      <td>Yes</td>\n",
       "    </tr>\n",
       "  </tbody>\n",
       "</table>\n",
       "</div>"
      ],
      "text/plain": [
       "      student_id  subject           assignment_name    due_date    status  \\\n",
       "56782     S02559  English                 Get case.  2024-09-10         ✔   \n",
       "32370     S09942   Arabic      Offer teach teacher.  2025-02-19         ✅   \n",
       "35394     S10590  English  Imagine claim first get.  2025-01-30   pending   \n",
       "47413     S08536   Arabic        Accept population.  2025-02-11   pending   \n",
       "2920      S11624  History       Condition his hear.  2024-11-25  not done   \n",
       "\n",
       "      grade_feedback guardian_signature  \n",
       "56782             A+                 No  \n",
       "32370              A                 No  \n",
       "35394              C                     \n",
       "47413              D                Yes  \n",
       "2920               D                Yes  "
      ]
     },
     "execution_count": 13,
     "metadata": {},
     "output_type": "execute_result"
    }
   ],
   "source": [
    "homework.sample(5)"
   ]
  },
  {
   "cell_type": "code",
   "execution_count": 14,
   "id": "dad526e6",
   "metadata": {},
   "outputs": [
    {
     "name": "stdout",
     "output_type": "stream",
     "text": [
      "<class 'pandas.core.frame.DataFrame'>\n",
      "RangeIndex: 60780 entries, 0 to 60779\n",
      "Data columns (total 7 columns):\n",
      " #   Column              Non-Null Count  Dtype \n",
      "---  ------              --------------  ----- \n",
      " 0   student_id          60780 non-null  object\n",
      " 1   subject             60780 non-null  object\n",
      " 2   assignment_name     60780 non-null  object\n",
      " 3   due_date            60780 non-null  object\n",
      " 4   status              60780 non-null  object\n",
      " 5   grade_feedback      60780 non-null  object\n",
      " 6   guardian_signature  60780 non-null  object\n",
      "dtypes: object(7)\n",
      "memory usage: 3.2+ MB\n"
     ]
    }
   ],
   "source": [
    "homework.info()"
   ]
  },
  {
   "cell_type": "markdown",
   "id": "46ad4dc6",
   "metadata": {},
   "source": [
    "#### Clean mixed date formats with `pd.to_datetime`"
   ]
  },
  {
   "cell_type": "code",
   "execution_count": 15,
   "id": "98937e0e",
   "metadata": {},
   "outputs": [
    {
     "data": {
      "text/html": [
       "<div>\n",
       "<style scoped>\n",
       "    .dataframe tbody tr th:only-of-type {\n",
       "        vertical-align: middle;\n",
       "    }\n",
       "\n",
       "    .dataframe tbody tr th {\n",
       "        vertical-align: top;\n",
       "    }\n",
       "\n",
       "    .dataframe thead th {\n",
       "        text-align: right;\n",
       "    }\n",
       "</style>\n",
       "<table border=\"1\" class=\"dataframe\">\n",
       "  <thead>\n",
       "    <tr style=\"text-align: right;\">\n",
       "      <th></th>\n",
       "      <th>student_id</th>\n",
       "      <th>subject</th>\n",
       "      <th>assignment_name</th>\n",
       "      <th>due_date</th>\n",
       "      <th>status</th>\n",
       "      <th>grade_feedback</th>\n",
       "      <th>guardian_signature</th>\n",
       "    </tr>\n",
       "  </thead>\n",
       "  <tbody>\n",
       "    <tr>\n",
       "      <th>10102</th>\n",
       "      <td>S11282</td>\n",
       "      <td>Geography</td>\n",
       "      <td>Important mother.</td>\n",
       "      <td>10/03/2024</td>\n",
       "      <td>❌</td>\n",
       "      <td>C-</td>\n",
       "      <td></td>\n",
       "    </tr>\n",
       "    <tr>\n",
       "      <th>11914</th>\n",
       "      <td>S11282</td>\n",
       "      <td>History</td>\n",
       "      <td>Cut security.</td>\n",
       "      <td>2024-11-03</td>\n",
       "      <td>not done</td>\n",
       "      <td>B</td>\n",
       "      <td>No</td>\n",
       "    </tr>\n",
       "    <tr>\n",
       "      <th>39662</th>\n",
       "      <td>S11282</td>\n",
       "      <td>Math</td>\n",
       "      <td>Teach project.</td>\n",
       "      <td>2024-12-11</td>\n",
       "      <td>not done</td>\n",
       "      <td>F</td>\n",
       "      <td>No</td>\n",
       "    </tr>\n",
       "    <tr>\n",
       "      <th>51640</th>\n",
       "      <td>S11282</td>\n",
       "      <td>Science</td>\n",
       "      <td>Form wear.</td>\n",
       "      <td>01/04/2025</td>\n",
       "      <td>✅</td>\n",
       "      <td>B-</td>\n",
       "      <td>No</td>\n",
       "    </tr>\n",
       "  </tbody>\n",
       "</table>\n",
       "</div>"
      ],
      "text/plain": [
       "      student_id    subject    assignment_name    due_date    status  \\\n",
       "10102     S11282  Geography  Important mother.  10/03/2024         ❌   \n",
       "11914     S11282    History      Cut security.  2024-11-03  not done   \n",
       "39662     S11282       Math     Teach project.  2024-12-11  not done   \n",
       "51640     S11282    Science         Form wear.  01/04/2025         ✅   \n",
       "\n",
       "      grade_feedback guardian_signature  \n",
       "10102             C-                     \n",
       "11914              B                 No  \n",
       "39662              F                 No  \n",
       "51640             B-                 No  "
      ]
     },
     "execution_count": 15,
     "metadata": {},
     "output_type": "execute_result"
    }
   ],
   "source": [
    "homework[homework['student_id'] == 'S11282']"
   ]
  },
  {
   "cell_type": "code",
   "execution_count": 16,
   "id": "50512303",
   "metadata": {},
   "outputs": [],
   "source": [
    "homework['due_date'] = pd.to_datetime(homework['due_date'], format = 'mixed', dayfirst = True)"
   ]
  },
  {
   "cell_type": "code",
   "execution_count": 17,
   "id": "8e27d61f",
   "metadata": {},
   "outputs": [
    {
     "data": {
      "text/html": [
       "<div>\n",
       "<style scoped>\n",
       "    .dataframe tbody tr th:only-of-type {\n",
       "        vertical-align: middle;\n",
       "    }\n",
       "\n",
       "    .dataframe tbody tr th {\n",
       "        vertical-align: top;\n",
       "    }\n",
       "\n",
       "    .dataframe thead th {\n",
       "        text-align: right;\n",
       "    }\n",
       "</style>\n",
       "<table border=\"1\" class=\"dataframe\">\n",
       "  <thead>\n",
       "    <tr style=\"text-align: right;\">\n",
       "      <th></th>\n",
       "      <th>student_id</th>\n",
       "      <th>subject</th>\n",
       "      <th>assignment_name</th>\n",
       "      <th>due_date</th>\n",
       "      <th>status</th>\n",
       "      <th>grade_feedback</th>\n",
       "      <th>guardian_signature</th>\n",
       "    </tr>\n",
       "  </thead>\n",
       "  <tbody>\n",
       "    <tr>\n",
       "      <th>10102</th>\n",
       "      <td>S11282</td>\n",
       "      <td>Geography</td>\n",
       "      <td>Important mother.</td>\n",
       "      <td>2024-03-10</td>\n",
       "      <td>❌</td>\n",
       "      <td>C-</td>\n",
       "      <td></td>\n",
       "    </tr>\n",
       "    <tr>\n",
       "      <th>11914</th>\n",
       "      <td>S11282</td>\n",
       "      <td>History</td>\n",
       "      <td>Cut security.</td>\n",
       "      <td>2024-11-03</td>\n",
       "      <td>not done</td>\n",
       "      <td>B</td>\n",
       "      <td>No</td>\n",
       "    </tr>\n",
       "    <tr>\n",
       "      <th>39662</th>\n",
       "      <td>S11282</td>\n",
       "      <td>Math</td>\n",
       "      <td>Teach project.</td>\n",
       "      <td>2024-12-11</td>\n",
       "      <td>not done</td>\n",
       "      <td>F</td>\n",
       "      <td>No</td>\n",
       "    </tr>\n",
       "    <tr>\n",
       "      <th>51640</th>\n",
       "      <td>S11282</td>\n",
       "      <td>Science</td>\n",
       "      <td>Form wear.</td>\n",
       "      <td>2025-04-01</td>\n",
       "      <td>✅</td>\n",
       "      <td>B-</td>\n",
       "      <td>No</td>\n",
       "    </tr>\n",
       "  </tbody>\n",
       "</table>\n",
       "</div>"
      ],
      "text/plain": [
       "      student_id    subject    assignment_name   due_date    status  \\\n",
       "10102     S11282  Geography  Important mother. 2024-03-10         ❌   \n",
       "11914     S11282    History      Cut security. 2024-11-03  not done   \n",
       "39662     S11282       Math     Teach project. 2024-12-11  not done   \n",
       "51640     S11282    Science         Form wear. 2025-04-01         ✅   \n",
       "\n",
       "      grade_feedback guardian_signature  \n",
       "10102             C-                     \n",
       "11914              B                 No  \n",
       "39662              F                 No  \n",
       "51640             B-                 No  "
      ]
     },
     "execution_count": 17,
     "metadata": {},
     "output_type": "execute_result"
    }
   ],
   "source": [
    "homework[homework['student_id'] == 'S11282']"
   ]
  },
  {
   "cell_type": "markdown",
   "id": "906e5735",
   "metadata": {},
   "source": [
    "#### Fix inconsistent statuses using a custom cleaning function"
   ]
  },
  {
   "cell_type": "code",
   "execution_count": 18,
   "id": "d520ec57",
   "metadata": {},
   "outputs": [],
   "source": [
    "homework['status'] = homework['status'].str.strip()"
   ]
  },
  {
   "cell_type": "code",
   "execution_count": 19,
   "id": "02eb0d63",
   "metadata": {},
   "outputs": [
    {
     "data": {
      "text/plain": [
       "array(['❌', 'Done', '✅', '✔', 'not done', 'pending'], dtype=object)"
      ]
     },
     "execution_count": 19,
     "metadata": {},
     "output_type": "execute_result"
    }
   ],
   "source": [
    "homework['status'].unique()"
   ]
  },
  {
   "cell_type": "code",
   "execution_count": 20,
   "id": "07f89349",
   "metadata": {},
   "outputs": [],
   "source": [
    "def homework_status(x):\n",
    "    if x in ['❌', 'not done']:\n",
    "        return 'Not Done'\n",
    "    elif x in ['✅', '✔', 'Done']:\n",
    "        return 'Done'\n",
    "    else:\n",
    "        return 'Pending'"
   ]
  },
  {
   "cell_type": "code",
   "execution_count": 21,
   "id": "d3113ff8",
   "metadata": {},
   "outputs": [],
   "source": [
    "homework['status'] = homework['status'].apply(homework_status)"
   ]
  },
  {
   "cell_type": "code",
   "execution_count": 22,
   "id": "9c471987",
   "metadata": {},
   "outputs": [
    {
     "data": {
      "text/plain": [
       "array(['Not Done', 'Done', 'Pending'], dtype=object)"
      ]
     },
     "execution_count": 22,
     "metadata": {},
     "output_type": "execute_result"
    }
   ],
   "source": [
    "homework['status'].unique()"
   ]
  },
  {
   "cell_type": "markdown",
   "id": "d0d105a6",
   "metadata": {},
   "source": [
    "#### Change guardian signature encoding"
   ]
  },
  {
   "cell_type": "code",
   "execution_count": 23,
   "id": "292142d0",
   "metadata": {},
   "outputs": [
    {
     "data": {
      "text/plain": [
       "array(['Yes', 'No', ' '], dtype=object)"
      ]
     },
     "execution_count": 23,
     "metadata": {},
     "output_type": "execute_result"
    }
   ],
   "source": [
    "homework['guardian_signature'].unique()"
   ]
  },
  {
   "cell_type": "code",
   "execution_count": 24,
   "id": "acd9ddbb",
   "metadata": {},
   "outputs": [],
   "source": [
    "homework['guardian_signature'] = homework['guardian_signature'].replace(' ', np.nan)"
   ]
  },
  {
   "cell_type": "code",
   "execution_count": 25,
   "id": "6ef7a50c",
   "metadata": {},
   "outputs": [],
   "source": [
    "homework['guardian_signature'] = homework['guardian_signature'].map({'No': 0, 'Yes': 1})"
   ]
  },
  {
   "cell_type": "code",
   "execution_count": 26,
   "id": "b2567421",
   "metadata": {},
   "outputs": [
    {
     "data": {
      "text/plain": [
       "array([ 1.,  0., nan])"
      ]
     },
     "execution_count": 26,
     "metadata": {},
     "output_type": "execute_result"
    }
   ],
   "source": [
    "homework['guardian_signature'].unique()"
   ]
  },
  {
   "cell_type": "markdown",
   "id": "d2c540d6",
   "metadata": {},
   "source": [
    "#### Since the grades are stored as text, we convert them to GPA values for easier numeric analysis."
   ]
  },
  {
   "cell_type": "code",
   "execution_count": 27,
   "id": "5c400395",
   "metadata": {},
   "outputs": [],
   "source": [
    "def convert_grades(x):\n",
    "    mapping = {\n",
    "        \"A+\": 4.3, \"A\": 4.0, \"A-\": 3.7,\n",
    "        \"B+\": 3.3, \"B\": 3.0, \"B-\": 2.7,\n",
    "        \"C+\": 2.3, \"C\": 2.0, \"C-\": 1.7,\n",
    "        \"D+\": 1.3, \"D\": 1.0, \"D-\": 0.7,\n",
    "        \"F\": 0.0\n",
    "    }\n",
    "    return pd.Series(x).map(mapping)"
   ]
  },
  {
   "cell_type": "code",
   "execution_count": 28,
   "id": "92cd3fbd",
   "metadata": {},
   "outputs": [],
   "source": [
    "homework['GPA_grade'] = convert_grades(homework['grade_feedback'])"
   ]
  },
  {
   "cell_type": "markdown",
   "id": "7c1c4dd7",
   "metadata": {},
   "source": [
    "### **Performance dataset**"
   ]
  },
  {
   "cell_type": "code",
   "execution_count": 29,
   "id": "259e6e81",
   "metadata": {},
   "outputs": [
    {
     "data": {
      "text/html": [
       "<div>\n",
       "<style scoped>\n",
       "    .dataframe tbody tr th:only-of-type {\n",
       "        vertical-align: middle;\n",
       "    }\n",
       "\n",
       "    .dataframe tbody tr th {\n",
       "        vertical-align: top;\n",
       "    }\n",
       "\n",
       "    .dataframe thead th {\n",
       "        text-align: right;\n",
       "    }\n",
       "</style>\n",
       "<table border=\"1\" class=\"dataframe\">\n",
       "  <thead>\n",
       "    <tr style=\"text-align: right;\">\n",
       "      <th></th>\n",
       "      <th>student_id</th>\n",
       "      <th>subject</th>\n",
       "      <th>exam_score</th>\n",
       "      <th>homework_completion</th>\n",
       "      <th>teacher_comments</th>\n",
       "    </tr>\n",
       "  </thead>\n",
       "  <tbody>\n",
       "    <tr>\n",
       "      <th>14455</th>\n",
       "      <td>S06312</td>\n",
       "      <td>Arabic</td>\n",
       "      <td>57</td>\n",
       "      <td>80%</td>\n",
       "      <td>Per accept follow yes pretty road hotel.</td>\n",
       "    </tr>\n",
       "    <tr>\n",
       "      <th>11471</th>\n",
       "      <td>S09267</td>\n",
       "      <td>Math</td>\n",
       "      <td>103</td>\n",
       "      <td>80%</td>\n",
       "      <td>Sing gun important foreign sit cut newspaper s...</td>\n",
       "    </tr>\n",
       "    <tr>\n",
       "      <th>12668</th>\n",
       "      <td>S11648</td>\n",
       "      <td>History</td>\n",
       "      <td>44</td>\n",
       "      <td>80%</td>\n",
       "      <td>Two close school forward together specific hit...</td>\n",
       "    </tr>\n",
       "    <tr>\n",
       "      <th>31330</th>\n",
       "      <td>S02715</td>\n",
       "      <td>Geography</td>\n",
       "      <td>94</td>\n",
       "      <td>-5</td>\n",
       "      <td></td>\n",
       "    </tr>\n",
       "    <tr>\n",
       "      <th>23716</th>\n",
       "      <td>S11267</td>\n",
       "      <td>Science</td>\n",
       "      <td>58</td>\n",
       "      <td>90</td>\n",
       "      <td>Standard your instead painting drop knowledge ...</td>\n",
       "    </tr>\n",
       "  </tbody>\n",
       "</table>\n",
       "</div>"
      ],
      "text/plain": [
       "      student_id    subject exam_score homework_completion  \\\n",
       "14455     S06312     Arabic         57                 80%   \n",
       "11471     S09267       Math        103                 80%   \n",
       "12668     S11648    History         44                 80%   \n",
       "31330     S02715  Geography         94                  -5   \n",
       "23716     S11267    Science         58                  90   \n",
       "\n",
       "                                        teacher_comments  \n",
       "14455           Per accept follow yes pretty road hotel.  \n",
       "11471  Sing gun important foreign sit cut newspaper s...  \n",
       "12668  Two close school forward together specific hit...  \n",
       "31330                                                     \n",
       "23716  Standard your instead painting drop knowledge ...  "
      ]
     },
     "execution_count": 29,
     "metadata": {},
     "output_type": "execute_result"
    }
   ],
   "source": [
    "performance.sample(5)"
   ]
  },
  {
   "cell_type": "code",
   "execution_count": 30,
   "id": "4b76ad41",
   "metadata": {},
   "outputs": [
    {
     "name": "stdout",
     "output_type": "stream",
     "text": [
      "<class 'pandas.core.frame.DataFrame'>\n",
      "RangeIndex: 36468 entries, 0 to 36467\n",
      "Data columns (total 5 columns):\n",
      " #   Column               Non-Null Count  Dtype \n",
      "---  ------               --------------  ----- \n",
      " 0   student_id           36468 non-null  object\n",
      " 1   subject              36468 non-null  object\n",
      " 2   exam_score           36468 non-null  object\n",
      " 3   homework_completion  36468 non-null  object\n",
      " 4   teacher_comments     36468 non-null  object\n",
      "dtypes: object(5)\n",
      "memory usage: 1.4+ MB\n"
     ]
    }
   ],
   "source": [
    "performance.info()"
   ]
  },
  {
   "cell_type": "markdown",
   "id": "6d13f8fa",
   "metadata": {},
   "source": [
    "#### Fixing `exam_score > 100`"
   ]
  },
  {
   "cell_type": "code",
   "execution_count": 31,
   "id": "e299a800",
   "metadata": {},
   "outputs": [],
   "source": [
    "performance['exam_score'] = performance['exam_score'].str.strip().astype(int)"
   ]
  },
  {
   "cell_type": "code",
   "execution_count": 32,
   "id": "addaa269",
   "metadata": {},
   "outputs": [
    {
     "data": {
      "text/plain": [
       "array([ 76,  91,  92,  40,  57,  89,  60,  95,  50,  68,  97,  74,  47,\n",
       "        45,  90,  70, 109,  53,  78, 102,  66, 103, 110,  44, 106,  86,\n",
       "        79,  46,  64, 105, 101,  98,  56,  72,  96,  62,  41,  48,  88,\n",
       "        61,  81,  84,  99,  83,  69,  87,  85,  58, 107, 104,  94,  52,\n",
       "       108, 100,  54,  75,  63,  67,  49,  42,  93,  55,  71,  59,  43,\n",
       "        82,  80,  65,  73,  77,  51])"
      ]
     },
     "execution_count": 32,
     "metadata": {},
     "output_type": "execute_result"
    }
   ],
   "source": [
    "performance['exam_score'].unique()"
   ]
  },
  {
   "cell_type": "code",
   "execution_count": 33,
   "id": "28817330",
   "metadata": {},
   "outputs": [],
   "source": [
    "performance = performance[performance['exam_score'] <= 100]"
   ]
  },
  {
   "cell_type": "code",
   "execution_count": 34,
   "id": "deee182c",
   "metadata": {},
   "outputs": [
    {
     "data": {
      "text/html": [
       "<div>\n",
       "<style scoped>\n",
       "    .dataframe tbody tr th:only-of-type {\n",
       "        vertical-align: middle;\n",
       "    }\n",
       "\n",
       "    .dataframe tbody tr th {\n",
       "        vertical-align: top;\n",
       "    }\n",
       "\n",
       "    .dataframe thead th {\n",
       "        text-align: right;\n",
       "    }\n",
       "</style>\n",
       "<table border=\"1\" class=\"dataframe\">\n",
       "  <thead>\n",
       "    <tr style=\"text-align: right;\">\n",
       "      <th></th>\n",
       "      <th>exam_score</th>\n",
       "    </tr>\n",
       "  </thead>\n",
       "  <tbody>\n",
       "    <tr>\n",
       "      <th>count</th>\n",
       "      <td>31329.000000</td>\n",
       "    </tr>\n",
       "    <tr>\n",
       "      <th>mean</th>\n",
       "      <td>69.955664</td>\n",
       "    </tr>\n",
       "    <tr>\n",
       "      <th>std</th>\n",
       "      <td>17.653133</td>\n",
       "    </tr>\n",
       "    <tr>\n",
       "      <th>min</th>\n",
       "      <td>40.000000</td>\n",
       "    </tr>\n",
       "    <tr>\n",
       "      <th>25%</th>\n",
       "      <td>55.000000</td>\n",
       "    </tr>\n",
       "    <tr>\n",
       "      <th>50%</th>\n",
       "      <td>70.000000</td>\n",
       "    </tr>\n",
       "    <tr>\n",
       "      <th>75%</th>\n",
       "      <td>85.000000</td>\n",
       "    </tr>\n",
       "    <tr>\n",
       "      <th>max</th>\n",
       "      <td>100.000000</td>\n",
       "    </tr>\n",
       "  </tbody>\n",
       "</table>\n",
       "</div>"
      ],
      "text/plain": [
       "         exam_score\n",
       "count  31329.000000\n",
       "mean      69.955664\n",
       "std       17.653133\n",
       "min       40.000000\n",
       "25%       55.000000\n",
       "50%       70.000000\n",
       "75%       85.000000\n",
       "max      100.000000"
      ]
     },
     "execution_count": 34,
     "metadata": {},
     "output_type": "execute_result"
    }
   ],
   "source": [
    "performance.describe()"
   ]
  },
  {
   "cell_type": "markdown",
   "id": "f3e209a2",
   "metadata": {},
   "source": [
    "#### Removing `%` from `homework_completion` values"
   ]
  },
  {
   "cell_type": "code",
   "execution_count": 35,
   "id": "93418bc7",
   "metadata": {},
   "outputs": [],
   "source": [
    "performance['homework_completion'] = performance['homework_completion'].apply(lambda x: int(str(x).replace('%', '')))"
   ]
  },
  {
   "cell_type": "code",
   "execution_count": 36,
   "id": "a5556384",
   "metadata": {},
   "outputs": [],
   "source": [
    "performance = performance[performance['homework_completion'] > 0]"
   ]
  },
  {
   "cell_type": "code",
   "execution_count": 37,
   "id": "67a52590",
   "metadata": {},
   "outputs": [
    {
     "data": {
      "text/plain": [
       "array([ 90, 100,  95,  80], dtype=int64)"
      ]
     },
     "execution_count": 37,
     "metadata": {},
     "output_type": "execute_result"
    }
   ],
   "source": [
    "performance['homework_completion'].unique()"
   ]
  },
  {
   "cell_type": "markdown",
   "id": "a4760136",
   "metadata": {},
   "source": [
    "### **Communication dataset**"
   ]
  },
  {
   "cell_type": "code",
   "execution_count": 38,
   "id": "0c375fb9",
   "metadata": {},
   "outputs": [
    {
     "data": {
      "text/html": [
       "<div>\n",
       "<style scoped>\n",
       "    .dataframe tbody tr th:only-of-type {\n",
       "        vertical-align: middle;\n",
       "    }\n",
       "\n",
       "    .dataframe tbody tr th {\n",
       "        vertical-align: top;\n",
       "    }\n",
       "\n",
       "    .dataframe thead th {\n",
       "        text-align: right;\n",
       "    }\n",
       "</style>\n",
       "<table border=\"1\" class=\"dataframe\">\n",
       "  <thead>\n",
       "    <tr style=\"text-align: right;\">\n",
       "      <th></th>\n",
       "      <th>student_id</th>\n",
       "      <th>date</th>\n",
       "      <th>message_type</th>\n",
       "      <th>message_content</th>\n",
       "    </tr>\n",
       "  </thead>\n",
       "  <tbody>\n",
       "    <tr>\n",
       "      <th>375</th>\n",
       "      <td>S04821</td>\n",
       "      <td>2024-09-17</td>\n",
       "      <td>Teacher to Parent</td>\n",
       "      <td>Up possible great benefit care hundred will hi...</td>\n",
       "    </tr>\n",
       "    <tr>\n",
       "      <th>24060</th>\n",
       "      <td>S11317</td>\n",
       "      <td>2025-03-05</td>\n",
       "      <td>Teacher to Parent</td>\n",
       "      <td>Wear media attorney into born wind organizatio...</td>\n",
       "    </tr>\n",
       "    <tr>\n",
       "      <th>2612</th>\n",
       "      <td>S02193</td>\n",
       "      <td>2025-02-08</td>\n",
       "      <td>Teacher to Parent</td>\n",
       "      <td>My our year miss agree protect moment number y...</td>\n",
       "    </tr>\n",
       "    <tr>\n",
       "      <th>2497</th>\n",
       "      <td>S11544</td>\n",
       "      <td>2024-12-25</td>\n",
       "      <td>Parent to Teacher</td>\n",
       "      <td>Find garden under will stock radio manager bui...</td>\n",
       "    </tr>\n",
       "    <tr>\n",
       "      <th>21356</th>\n",
       "      <td>S05719</td>\n",
       "      <td>2024-11-27</td>\n",
       "      <td>Parent to Teacher</td>\n",
       "      <td>Not break view else personal analysis wind age...</td>\n",
       "    </tr>\n",
       "  </tbody>\n",
       "</table>\n",
       "</div>"
      ],
      "text/plain": [
       "      student_id        date       message_type  \\\n",
       "375       S04821  2024-09-17  Teacher to Parent   \n",
       "24060     S11317  2025-03-05  Teacher to Parent   \n",
       "2612      S02193  2025-02-08  Teacher to Parent   \n",
       "2497      S11544  2024-12-25  Parent to Teacher   \n",
       "21356     S05719  2024-11-27  Parent to Teacher   \n",
       "\n",
       "                                         message_content  \n",
       "375    Up possible great benefit care hundred will hi...  \n",
       "24060  Wear media attorney into born wind organizatio...  \n",
       "2612   My our year miss agree protect moment number y...  \n",
       "2497   Find garden under will stock radio manager bui...  \n",
       "21356  Not break view else personal analysis wind age...  "
      ]
     },
     "execution_count": 38,
     "metadata": {},
     "output_type": "execute_result"
    }
   ],
   "source": [
    "communication.sample(5)"
   ]
  },
  {
   "cell_type": "code",
   "execution_count": 39,
   "id": "5e445b99",
   "metadata": {},
   "outputs": [
    {
     "name": "stdout",
     "output_type": "stream",
     "text": [
      "<class 'pandas.core.frame.DataFrame'>\n",
      "RangeIndex: 24312 entries, 0 to 24311\n",
      "Data columns (total 4 columns):\n",
      " #   Column           Non-Null Count  Dtype \n",
      "---  ------           --------------  ----- \n",
      " 0   student_id       24312 non-null  object\n",
      " 1   date             24312 non-null  object\n",
      " 2   message_type     24312 non-null  object\n",
      " 3   message_content  24312 non-null  object\n",
      "dtypes: object(4)\n",
      "memory usage: 759.9+ KB\n"
     ]
    }
   ],
   "source": [
    "communication.info()"
   ]
  },
  {
   "cell_type": "markdown",
   "id": "cb2e5dc3",
   "metadata": {},
   "source": [
    "#### Clean mixed date formats with `pd.to_datetime`"
   ]
  },
  {
   "cell_type": "code",
   "execution_count": 40,
   "id": "f7981392",
   "metadata": {},
   "outputs": [],
   "source": [
    "communication['date'] = pd.to_datetime(communication['date'], format = 'mixed', dayfirst = True)"
   ]
  },
  {
   "cell_type": "code",
   "execution_count": 41,
   "id": "4dcea5f2",
   "metadata": {},
   "outputs": [
    {
     "data": {
      "text/plain": [
       "array(['Automated Reminder', 'Parent to Teacher', 'Teacher to Parent'],\n",
       "      dtype=object)"
      ]
     },
     "execution_count": 41,
     "metadata": {},
     "output_type": "execute_result"
    }
   ],
   "source": [
    "communication['message_type'].unique()"
   ]
  },
  {
   "cell_type": "markdown",
   "id": "4670d21b",
   "metadata": {},
   "source": [
    "#### Removing rows where `message_content` is empty"
   ]
  },
  {
   "cell_type": "code",
   "execution_count": 42,
   "id": "0032067a",
   "metadata": {},
   "outputs": [],
   "source": [
    "communication['message_content'] = communication['message_content'].str.strip()"
   ]
  },
  {
   "cell_type": "code",
   "execution_count": 43,
   "id": "626d95af",
   "metadata": {},
   "outputs": [
    {
     "data": {
      "text/html": [
       "<div>\n",
       "<style scoped>\n",
       "    .dataframe tbody tr th:only-of-type {\n",
       "        vertical-align: middle;\n",
       "    }\n",
       "\n",
       "    .dataframe tbody tr th {\n",
       "        vertical-align: top;\n",
       "    }\n",
       "\n",
       "    .dataframe thead th {\n",
       "        text-align: right;\n",
       "    }\n",
       "</style>\n",
       "<table border=\"1\" class=\"dataframe\">\n",
       "  <thead>\n",
       "    <tr style=\"text-align: right;\">\n",
       "      <th></th>\n",
       "      <th>student_id</th>\n",
       "      <th>date</th>\n",
       "      <th>message_type</th>\n",
       "      <th>message_content</th>\n",
       "    </tr>\n",
       "  </thead>\n",
       "  <tbody>\n",
       "    <tr>\n",
       "      <th>6</th>\n",
       "      <td>S06925</td>\n",
       "      <td>2025-02-13</td>\n",
       "      <td>Automated Reminder</td>\n",
       "      <td></td>\n",
       "    </tr>\n",
       "    <tr>\n",
       "      <th>11</th>\n",
       "      <td>S05140</td>\n",
       "      <td>2024-09-17</td>\n",
       "      <td>Automated Reminder</td>\n",
       "      <td></td>\n",
       "    </tr>\n",
       "    <tr>\n",
       "      <th>28</th>\n",
       "      <td>S10194</td>\n",
       "      <td>2025-02-16</td>\n",
       "      <td>Teacher to Parent</td>\n",
       "      <td></td>\n",
       "    </tr>\n",
       "    <tr>\n",
       "      <th>75</th>\n",
       "      <td>S04642</td>\n",
       "      <td>2024-11-29</td>\n",
       "      <td>Parent to Teacher</td>\n",
       "      <td></td>\n",
       "    </tr>\n",
       "    <tr>\n",
       "      <th>79</th>\n",
       "      <td>S03451</td>\n",
       "      <td>2024-10-14</td>\n",
       "      <td>Parent to Teacher</td>\n",
       "      <td></td>\n",
       "    </tr>\n",
       "  </tbody>\n",
       "</table>\n",
       "</div>"
      ],
      "text/plain": [
       "   student_id       date        message_type message_content\n",
       "6      S06925 2025-02-13  Automated Reminder                \n",
       "11     S05140 2024-09-17  Automated Reminder                \n",
       "28     S10194 2025-02-16   Teacher to Parent                \n",
       "75     S04642 2024-11-29   Parent to Teacher                \n",
       "79     S03451 2024-10-14   Parent to Teacher                "
      ]
     },
     "execution_count": 43,
     "metadata": {},
     "output_type": "execute_result"
    }
   ],
   "source": [
    "communication[communication['message_content'] == ''].head(5)"
   ]
  },
  {
   "cell_type": "markdown",
   "id": "1efdce18",
   "metadata": {},
   "source": [
    "#### Only 5% of rows are empty, so dropping them is safer and simplifies analysis"
   ]
  },
  {
   "cell_type": "code",
   "execution_count": 44,
   "id": "defc3253",
   "metadata": {},
   "outputs": [
    {
     "data": {
      "text/plain": [
       "5.05"
      ]
     },
     "execution_count": 44,
     "metadata": {},
     "output_type": "execute_result"
    }
   ],
   "source": [
    "np.round(len(communication[communication['message_content'] == '']) / len(communication) * 100, 2)"
   ]
  },
  {
   "cell_type": "code",
   "execution_count": 45,
   "id": "4e659b64",
   "metadata": {},
   "outputs": [],
   "source": [
    "communication = communication[communication['message_content'] != '']"
   ]
  },
  {
   "cell_type": "markdown",
   "id": "9fb3e45f",
   "metadata": {},
   "source": [
    "### **Students dataset**"
   ]
  },
  {
   "cell_type": "code",
   "execution_count": 46,
   "id": "60de1563",
   "metadata": {},
   "outputs": [
    {
     "data": {
      "text/html": [
       "<div>\n",
       "<style scoped>\n",
       "    .dataframe tbody tr th:only-of-type {\n",
       "        vertical-align: middle;\n",
       "    }\n",
       "\n",
       "    .dataframe tbody tr th {\n",
       "        vertical-align: top;\n",
       "    }\n",
       "\n",
       "    .dataframe thead th {\n",
       "        text-align: right;\n",
       "    }\n",
       "</style>\n",
       "<table border=\"1\" class=\"dataframe\">\n",
       "  <thead>\n",
       "    <tr style=\"text-align: right;\">\n",
       "      <th></th>\n",
       "      <th>student_id</th>\n",
       "      <th>full_name</th>\n",
       "      <th>date_of_birth</th>\n",
       "      <th>grade_level</th>\n",
       "      <th>emergency_contact</th>\n",
       "    </tr>\n",
       "  </thead>\n",
       "  <tbody>\n",
       "    <tr>\n",
       "      <th>4384</th>\n",
       "      <td>S04385</td>\n",
       "      <td>Eric Davenport</td>\n",
       "      <td>2017-12-22</td>\n",
       "      <td>Grade 4</td>\n",
       "      <td>3152211745</td>\n",
       "    </tr>\n",
       "    <tr>\n",
       "      <th>2064</th>\n",
       "      <td>S02065</td>\n",
       "      <td>Michael Ford</td>\n",
       "      <td>2018-10-22</td>\n",
       "      <td>Grade 1</td>\n",
       "      <td>599.833.6689</td>\n",
       "    </tr>\n",
       "    <tr>\n",
       "      <th>648</th>\n",
       "      <td>S00649</td>\n",
       "      <td>Ryan Owen</td>\n",
       "      <td>2006-06-13</td>\n",
       "      <td>Grade 2</td>\n",
       "      <td>916.391.1924x332</td>\n",
       "    </tr>\n",
       "    <tr>\n",
       "      <th>1357</th>\n",
       "      <td>S01358</td>\n",
       "      <td>Donald King</td>\n",
       "      <td>2011-11-11</td>\n",
       "      <td>Grade 3</td>\n",
       "      <td>(648)822-8443x743</td>\n",
       "    </tr>\n",
       "    <tr>\n",
       "      <th>10443</th>\n",
       "      <td>S10444</td>\n",
       "      <td>Scott Young</td>\n",
       "      <td>2016-09-29</td>\n",
       "      <td>Grade 1</td>\n",
       "      <td>6122800112</td>\n",
       "    </tr>\n",
       "  </tbody>\n",
       "</table>\n",
       "</div>"
      ],
      "text/plain": [
       "      student_id       full_name date_of_birth grade_level  emergency_contact\n",
       "4384      S04385  Eric Davenport    2017-12-22     Grade 4         3152211745\n",
       "2064      S02065    Michael Ford    2018-10-22     Grade 1       599.833.6689\n",
       "648       S00649       Ryan Owen    2006-06-13     Grade 2   916.391.1924x332\n",
       "1357      S01358     Donald King    2011-11-11     Grade 3  (648)822-8443x743\n",
       "10443     S10444     Scott Young    2016-09-29     Grade 1         6122800112"
      ]
     },
     "execution_count": 46,
     "metadata": {},
     "output_type": "execute_result"
    }
   ],
   "source": [
    "students.sample(5)"
   ]
  },
  {
   "cell_type": "code",
   "execution_count": 47,
   "id": "cbc26c92",
   "metadata": {},
   "outputs": [
    {
     "name": "stdout",
     "output_type": "stream",
     "text": [
      "<class 'pandas.core.frame.DataFrame'>\n",
      "RangeIndex: 12156 entries, 0 to 12155\n",
      "Data columns (total 5 columns):\n",
      " #   Column             Non-Null Count  Dtype \n",
      "---  ------             --------------  ----- \n",
      " 0   student_id         12156 non-null  object\n",
      " 1   full_name          12156 non-null  object\n",
      " 2   date_of_birth      12156 non-null  object\n",
      " 3   grade_level        12156 non-null  object\n",
      " 4   emergency_contact  12156 non-null  object\n",
      "dtypes: object(5)\n",
      "memory usage: 475.0+ KB\n"
     ]
    }
   ],
   "source": [
    "students.info()"
   ]
  },
  {
   "cell_type": "markdown",
   "id": "b3f55f11",
   "metadata": {},
   "source": [
    "#### Correct format of `full_name`"
   ]
  },
  {
   "cell_type": "code",
   "execution_count": 48,
   "id": "b5746523",
   "metadata": {},
   "outputs": [
    {
     "data": {
      "text/plain": [
       "student_id                    S05847\n",
       "full_name              erica alvarez\n",
       "date_of_birth             2006-08-19\n",
       "grade_level                  Grade 4\n",
       "emergency_contact    +1-422-581-3030\n",
       "Name: 5846, dtype: object"
      ]
     },
     "execution_count": 48,
     "metadata": {},
     "output_type": "execute_result"
    }
   ],
   "source": [
    "students.iloc[5846]"
   ]
  },
  {
   "cell_type": "code",
   "execution_count": 49,
   "id": "f707ed89",
   "metadata": {},
   "outputs": [],
   "source": [
    "students['full_name'] = students['full_name'].apply(lambda x: x.title())"
   ]
  },
  {
   "cell_type": "code",
   "execution_count": 50,
   "id": "76703950",
   "metadata": {},
   "outputs": [
    {
     "data": {
      "text/plain": [
       "student_id                    S05847\n",
       "full_name              Erica Alvarez\n",
       "date_of_birth             2006-08-19\n",
       "grade_level                  Grade 4\n",
       "emergency_contact    +1-422-581-3030\n",
       "Name: 5846, dtype: object"
      ]
     },
     "execution_count": 50,
     "metadata": {},
     "output_type": "execute_result"
    }
   ],
   "source": [
    "students.iloc[5846]"
   ]
  },
  {
   "cell_type": "markdown",
   "id": "e217b408",
   "metadata": {},
   "source": [
    "#### Clean mixed date formats with `pd.to_datetime`"
   ]
  },
  {
   "cell_type": "code",
   "execution_count": 51,
   "id": "55241530",
   "metadata": {},
   "outputs": [],
   "source": [
    "students['date_of_birth'] = pd.to_datetime(students['date_of_birth'], format = 'mixed', dayfirst = True)"
   ]
  },
  {
   "cell_type": "markdown",
   "id": "ac78457d",
   "metadata": {},
   "source": [
    "#### Converting `grade_level` to integer for analysis"
   ]
  },
  {
   "cell_type": "code",
   "execution_count": 52,
   "id": "f3a8af7e",
   "metadata": {},
   "outputs": [
    {
     "data": {
      "text/plain": [
       "array(['Grade 3', 'Grade 5', 'Grade 2', 'Grade 4', 'Grade 1'],\n",
       "      dtype=object)"
      ]
     },
     "execution_count": 52,
     "metadata": {},
     "output_type": "execute_result"
    }
   ],
   "source": [
    "students['grade_level'].unique()"
   ]
  },
  {
   "cell_type": "code",
   "execution_count": 53,
   "id": "b4784b95",
   "metadata": {},
   "outputs": [],
   "source": [
    "def grade(x):\n",
    "    return int(x.replace('Grade', '').strip())"
   ]
  },
  {
   "cell_type": "code",
   "execution_count": 54,
   "id": "49f46195",
   "metadata": {},
   "outputs": [],
   "source": [
    "students['grade_level'] = students['grade_level'].apply(grade)"
   ]
  },
  {
   "cell_type": "code",
   "execution_count": 55,
   "id": "148159d0",
   "metadata": {},
   "outputs": [
    {
     "data": {
      "text/plain": [
       "array([3, 5, 2, 4, 1], dtype=int64)"
      ]
     },
     "execution_count": 55,
     "metadata": {},
     "output_type": "execute_result"
    }
   ],
   "source": [
    "students['grade_level'].unique()"
   ]
  },
  {
   "cell_type": "markdown",
   "id": "b5e02a54",
   "metadata": {},
   "source": [
    "#### Select Relevant Columns and Update MySQL Table"
   ]
  },
  {
   "cell_type": "code",
   "execution_count": 56,
   "id": "7ab95e13",
   "metadata": {},
   "outputs": [],
   "source": [
    "performance = performance.drop('teacher_comments', axis = 'columns')"
   ]
  },
  {
   "cell_type": "code",
   "execution_count": 57,
   "id": "8a710b9b",
   "metadata": {},
   "outputs": [],
   "source": [
    "communication = communication.drop('message_content', axis='columns')"
   ]
  },
  {
   "cell_type": "code",
   "execution_count": 58,
   "id": "eb0a1114",
   "metadata": {},
   "outputs": [],
   "source": [
    "students = students.drop('emergency_contact', axis='columns')"
   ]
  },
  {
   "cell_type": "markdown",
   "id": "84b63b78",
   "metadata": {},
   "source": [
    "#### Function to add cleaned tables into MySQL "
   ]
  },
  {
   "cell_type": "code",
   "execution_count": 59,
   "id": "99fb4abe",
   "metadata": {},
   "outputs": [],
   "source": [
    "def write_table(df, table_name):\n",
    "    return df.to_sql(\n",
    "        name=table_name,\n",
    "        con=engine,\n",
    "        if_exists='replace',\n",
    "        index=False\n",
    "    )"
   ]
  },
  {
   "cell_type": "code",
   "execution_count": 60,
   "id": "0be5883e",
   "metadata": {},
   "outputs": [
    {
     "data": {
      "text/plain": [
       "364680"
      ]
     },
     "execution_count": 60,
     "metadata": {},
     "output_type": "execute_result"
    }
   ],
   "source": [
    "write_table(attendance, 'attendance_cleaned')"
   ]
  },
  {
   "cell_type": "code",
   "execution_count": 61,
   "id": "6d01e3a9",
   "metadata": {},
   "outputs": [
    {
     "data": {
      "text/plain": [
       "60780"
      ]
     },
     "execution_count": 61,
     "metadata": {},
     "output_type": "execute_result"
    }
   ],
   "source": [
    "write_table(homework, 'homework_cleaned')"
   ]
  },
  {
   "cell_type": "code",
   "execution_count": 62,
   "id": "0133acc6",
   "metadata": {},
   "outputs": [
    {
     "data": {
      "text/plain": [
       "24964"
      ]
     },
     "execution_count": 62,
     "metadata": {},
     "output_type": "execute_result"
    }
   ],
   "source": [
    "write_table(performance, 'performance_cleaned')"
   ]
  },
  {
   "cell_type": "code",
   "execution_count": 63,
   "id": "1c3ffb74",
   "metadata": {},
   "outputs": [
    {
     "data": {
      "text/plain": [
       "23085"
      ]
     },
     "execution_count": 63,
     "metadata": {},
     "output_type": "execute_result"
    }
   ],
   "source": [
    "write_table(communication, 'communication_cleaned')"
   ]
  },
  {
   "cell_type": "code",
   "execution_count": 64,
   "id": "01fcd0a8",
   "metadata": {},
   "outputs": [
    {
     "data": {
      "text/plain": [
       "12156"
      ]
     },
     "execution_count": 64,
     "metadata": {},
     "output_type": "execute_result"
    }
   ],
   "source": [
    "write_table(students, 'students_cleaned')"
   ]
  },
  {
   "cell_type": "markdown",
   "id": "8e26b5b8",
   "metadata": {},
   "source": [
    "## **EDA**"
   ]
  },
  {
   "cell_type": "markdown",
   "id": "f20d8918",
   "metadata": {},
   "source": [
    "### **Data Exploration**"
   ]
  },
  {
   "cell_type": "markdown",
   "id": "c1573ff0",
   "metadata": {},
   "source": [
    "Overall date range of the attendance dataset"
   ]
  },
  {
   "cell_type": "code",
   "execution_count": 65,
   "id": "fa15377b",
   "metadata": {},
   "outputs": [
    {
     "data": {
      "text/html": [
       "<div>\n",
       "<style scoped>\n",
       "    .dataframe tbody tr th:only-of-type {\n",
       "        vertical-align: middle;\n",
       "    }\n",
       "\n",
       "    .dataframe tbody tr th {\n",
       "        vertical-align: top;\n",
       "    }\n",
       "\n",
       "    .dataframe thead th {\n",
       "        text-align: right;\n",
       "    }\n",
       "</style>\n",
       "<table border=\"1\" class=\"dataframe\">\n",
       "  <thead>\n",
       "    <tr style=\"text-align: right;\">\n",
       "      <th></th>\n",
       "      <th>start_date</th>\n",
       "      <th>end_date</th>\n",
       "    </tr>\n",
       "  </thead>\n",
       "  <tbody>\n",
       "    <tr>\n",
       "      <th>0</th>\n",
       "      <td>2024-03-09</td>\n",
       "      <td>2025-03-09</td>\n",
       "    </tr>\n",
       "  </tbody>\n",
       "</table>\n",
       "</div>"
      ],
      "text/plain": [
       "  start_date   end_date\n",
       "0 2024-03-09 2025-03-09"
      ]
     },
     "execution_count": 65,
     "metadata": {},
     "output_type": "execute_result"
    }
   ],
   "source": [
    "query = \"\"\"\n",
    "SELECT\n",
    "    MIN(date) AS start_date,\n",
    "    MAX(date) AS end_date\n",
    "FROM attendance_cleaned;\n",
    "\"\"\"\n",
    "\n",
    "pd.read_sql(query, engine)"
   ]
  },
  {
   "cell_type": "markdown",
   "id": "e7a8f45d",
   "metadata": {},
   "source": [
    "How many students are in the dataset?"
   ]
  },
  {
   "cell_type": "code",
   "execution_count": 66,
   "id": "de748474",
   "metadata": {},
   "outputs": [
    {
     "data": {
      "text/html": [
       "<div>\n",
       "<style scoped>\n",
       "    .dataframe tbody tr th:only-of-type {\n",
       "        vertical-align: middle;\n",
       "    }\n",
       "\n",
       "    .dataframe tbody tr th {\n",
       "        vertical-align: top;\n",
       "    }\n",
       "\n",
       "    .dataframe thead th {\n",
       "        text-align: right;\n",
       "    }\n",
       "</style>\n",
       "<table border=\"1\" class=\"dataframe\">\n",
       "  <thead>\n",
       "    <tr style=\"text-align: right;\">\n",
       "      <th></th>\n",
       "      <th>students_number</th>\n",
       "    </tr>\n",
       "  </thead>\n",
       "  <tbody>\n",
       "    <tr>\n",
       "      <th>0</th>\n",
       "      <td>12156</td>\n",
       "    </tr>\n",
       "  </tbody>\n",
       "</table>\n",
       "</div>"
      ],
      "text/plain": [
       "   students_number\n",
       "0            12156"
      ]
     },
     "execution_count": 66,
     "metadata": {},
     "output_type": "execute_result"
    }
   ],
   "source": [
    "query = \"\"\"\n",
    "SELECT COUNT(DISTINCT student_id) as students_number FROM students_cleaned;\n",
    "\"\"\"\n",
    "\n",
    "pd.read_sql(query, engine)"
   ]
  },
  {
   "cell_type": "markdown",
   "id": "f8f1ccfc",
   "metadata": {},
   "source": [
    "How many students are there per grade level?"
   ]
  },
  {
   "cell_type": "code",
   "execution_count": 67,
   "id": "ee02b74f",
   "metadata": {},
   "outputs": [
    {
     "data": {
      "text/html": [
       "<div>\n",
       "<style scoped>\n",
       "    .dataframe tbody tr th:only-of-type {\n",
       "        vertical-align: middle;\n",
       "    }\n",
       "\n",
       "    .dataframe tbody tr th {\n",
       "        vertical-align: top;\n",
       "    }\n",
       "\n",
       "    .dataframe thead th {\n",
       "        text-align: right;\n",
       "    }\n",
       "</style>\n",
       "<table border=\"1\" class=\"dataframe\">\n",
       "  <thead>\n",
       "    <tr style=\"text-align: right;\">\n",
       "      <th></th>\n",
       "      <th>grade_level</th>\n",
       "      <th>student_number</th>\n",
       "    </tr>\n",
       "  </thead>\n",
       "  <tbody>\n",
       "    <tr>\n",
       "      <th>0</th>\n",
       "      <td>1</td>\n",
       "      <td>2383</td>\n",
       "    </tr>\n",
       "    <tr>\n",
       "      <th>1</th>\n",
       "      <td>2</td>\n",
       "      <td>2400</td>\n",
       "    </tr>\n",
       "    <tr>\n",
       "      <th>2</th>\n",
       "      <td>3</td>\n",
       "      <td>2447</td>\n",
       "    </tr>\n",
       "    <tr>\n",
       "      <th>3</th>\n",
       "      <td>4</td>\n",
       "      <td>2454</td>\n",
       "    </tr>\n",
       "    <tr>\n",
       "      <th>4</th>\n",
       "      <td>5</td>\n",
       "      <td>2472</td>\n",
       "    </tr>\n",
       "  </tbody>\n",
       "</table>\n",
       "</div>"
      ],
      "text/plain": [
       "   grade_level  student_number\n",
       "0            1            2383\n",
       "1            2            2400\n",
       "2            3            2447\n",
       "3            4            2454\n",
       "4            5            2472"
      ]
     },
     "execution_count": 67,
     "metadata": {},
     "output_type": "execute_result"
    }
   ],
   "source": [
    "query = \"\"\"\n",
    "SELECT \n",
    "    grade_level,\n",
    "    COUNT(student_id) as student_number \n",
    "FROM students_cleaned\n",
    "GROUP BY grade_level\n",
    "ORDER BY grade_level\n",
    "\"\"\"\n",
    "\n",
    "pd.read_sql(query, engine)"
   ]
  },
  {
   "cell_type": "markdown",
   "id": "9712880b",
   "metadata": {},
   "source": [
    "What is the average of exam scores and homework compeltion?"
   ]
  },
  {
   "cell_type": "code",
   "execution_count": 68,
   "id": "62294154",
   "metadata": {},
   "outputs": [
    {
     "data": {
      "text/html": [
       "<div>\n",
       "<style scoped>\n",
       "    .dataframe tbody tr th:only-of-type {\n",
       "        vertical-align: middle;\n",
       "    }\n",
       "\n",
       "    .dataframe tbody tr th {\n",
       "        vertical-align: top;\n",
       "    }\n",
       "\n",
       "    .dataframe thead th {\n",
       "        text-align: right;\n",
       "    }\n",
       "</style>\n",
       "<table border=\"1\" class=\"dataframe\">\n",
       "  <thead>\n",
       "    <tr style=\"text-align: right;\">\n",
       "      <th></th>\n",
       "      <th>subject</th>\n",
       "      <th>avg_exam_score</th>\n",
       "      <th>avg_homework_completion</th>\n",
       "    </tr>\n",
       "  </thead>\n",
       "  <tbody>\n",
       "    <tr>\n",
       "      <th>0</th>\n",
       "      <td>Arabic</td>\n",
       "      <td>69.9180</td>\n",
       "      <td>91.3631</td>\n",
       "    </tr>\n",
       "    <tr>\n",
       "      <th>1</th>\n",
       "      <td>Math</td>\n",
       "      <td>69.9449</td>\n",
       "      <td>91.2292</td>\n",
       "    </tr>\n",
       "    <tr>\n",
       "      <th>2</th>\n",
       "      <td>Science</td>\n",
       "      <td>70.1714</td>\n",
       "      <td>91.3957</td>\n",
       "    </tr>\n",
       "    <tr>\n",
       "      <th>3</th>\n",
       "      <td>English</td>\n",
       "      <td>70.0463</td>\n",
       "      <td>91.0955</td>\n",
       "    </tr>\n",
       "    <tr>\n",
       "      <th>4</th>\n",
       "      <td>History</td>\n",
       "      <td>69.9504</td>\n",
       "      <td>91.2157</td>\n",
       "    </tr>\n",
       "    <tr>\n",
       "      <th>5</th>\n",
       "      <td>Geography</td>\n",
       "      <td>69.9494</td>\n",
       "      <td>91.3209</td>\n",
       "    </tr>\n",
       "  </tbody>\n",
       "</table>\n",
       "</div>"
      ],
      "text/plain": [
       "     subject  avg_exam_score  avg_homework_completion\n",
       "0     Arabic         69.9180                  91.3631\n",
       "1       Math         69.9449                  91.2292\n",
       "2    Science         70.1714                  91.3957\n",
       "3    English         70.0463                  91.0955\n",
       "4    History         69.9504                  91.2157\n",
       "5  Geography         69.9494                  91.3209"
      ]
     },
     "execution_count": 68,
     "metadata": {},
     "output_type": "execute_result"
    }
   ],
   "source": [
    "query = \"\"\"\n",
    "SELECT \n",
    "    subject, \n",
    "    AVG(exam_score) as avg_exam_score, \n",
    "    AVG(homework_completion) as avg_homework_completion\n",
    "FROM performance_cleaned\n",
    "GROUP BY subject\n",
    "\"\"\"\n",
    "\n",
    "pd.read_sql(query, engine)"
   ]
  },
  {
   "cell_type": "markdown",
   "id": "6509af21",
   "metadata": {},
   "source": [
    "Which students have the highest and lowest average exam scores?"
   ]
  },
  {
   "cell_type": "code",
   "execution_count": 69,
   "id": "a5f49b66",
   "metadata": {},
   "outputs": [
    {
     "data": {
      "text/html": [
       "<div>\n",
       "<style scoped>\n",
       "    .dataframe tbody tr th:only-of-type {\n",
       "        vertical-align: middle;\n",
       "    }\n",
       "\n",
       "    .dataframe tbody tr th {\n",
       "        vertical-align: top;\n",
       "    }\n",
       "\n",
       "    .dataframe thead th {\n",
       "        text-align: right;\n",
       "    }\n",
       "</style>\n",
       "<table border=\"1\" class=\"dataframe\">\n",
       "  <thead>\n",
       "    <tr style=\"text-align: right;\">\n",
       "      <th></th>\n",
       "      <th>avg_exam_score</th>\n",
       "    </tr>\n",
       "  </thead>\n",
       "  <tbody>\n",
       "    <tr>\n",
       "      <th>0</th>\n",
       "      <td>69.9969</td>\n",
       "    </tr>\n",
       "  </tbody>\n",
       "</table>\n",
       "</div>"
      ],
      "text/plain": [
       "   avg_exam_score\n",
       "0         69.9969"
      ]
     },
     "execution_count": 69,
     "metadata": {},
     "output_type": "execute_result"
    }
   ],
   "source": [
    "query = \"\"\"\n",
    "SELECT \n",
    "    AVG(exam_score) as avg_exam_score\n",
    "FROM performance_cleaned\n",
    "\"\"\"\n",
    "\n",
    "pd.read_sql(query, engine)"
   ]
  },
  {
   "cell_type": "markdown",
   "id": "7344dbba",
   "metadata": {},
   "source": [
    "Lowest(avg score = 40)"
   ]
  },
  {
   "cell_type": "code",
   "execution_count": 70,
   "id": "0866fc19",
   "metadata": {},
   "outputs": [],
   "source": [
    "query = \"\"\"\n",
    "SELECT \n",
    "    student_id,\n",
    "    AVG(exam_score) as avg_exam_score\n",
    "FROM performance_cleaned\n",
    "GROUP BY student_id\n",
    "HAVING avg_exam_score = 40\n",
    "ORDER BY avg_exam_score\n",
    "\"\"\"\n",
    "\n",
    "lowest_average = pd.read_sql(query, engine)"
   ]
  },
  {
   "cell_type": "code",
   "execution_count": 71,
   "id": "0a0096ae",
   "metadata": {},
   "outputs": [
    {
     "data": {
      "text/plain": [
       "52"
      ]
     },
     "execution_count": 71,
     "metadata": {},
     "output_type": "execute_result"
    }
   ],
   "source": [
    "len(lowest_average)"
   ]
  },
  {
   "cell_type": "markdown",
   "id": "caef1330",
   "metadata": {},
   "source": [
    "Highest(avg score = 100)"
   ]
  },
  {
   "cell_type": "code",
   "execution_count": 72,
   "id": "d547881b",
   "metadata": {},
   "outputs": [],
   "source": [
    "query = \"\"\"\n",
    "SELECT \n",
    "    student_id,\n",
    "    AVG(exam_score) as avg_exam_score\n",
    "FROM performance_cleaned\n",
    "GROUP BY student_id\n",
    "HAVING avg_exam_score = 100\n",
    "ORDER BY avg_exam_score\n",
    "\"\"\"\n",
    "\n",
    "highest_average = pd.read_sql(query, engine)"
   ]
  },
  {
   "cell_type": "code",
   "execution_count": 73,
   "id": "978654d8",
   "metadata": {},
   "outputs": [
    {
     "data": {
      "text/plain": [
       "49"
      ]
     },
     "execution_count": 73,
     "metadata": {},
     "output_type": "execute_result"
    }
   ],
   "source": [
    "len(highest_average)"
   ]
  },
  {
   "cell_type": "markdown",
   "id": "5e964039",
   "metadata": {},
   "source": [
    "How many unique dates are recorded in the attendance table?"
   ]
  },
  {
   "cell_type": "code",
   "execution_count": 74,
   "id": "651bb908",
   "metadata": {},
   "outputs": [
    {
     "data": {
      "text/html": [
       "<div>\n",
       "<style scoped>\n",
       "    .dataframe tbody tr th:only-of-type {\n",
       "        vertical-align: middle;\n",
       "    }\n",
       "\n",
       "    .dataframe tbody tr th {\n",
       "        vertical-align: top;\n",
       "    }\n",
       "\n",
       "    .dataframe thead th {\n",
       "        text-align: right;\n",
       "    }\n",
       "</style>\n",
       "<table border=\"1\" class=\"dataframe\">\n",
       "  <thead>\n",
       "    <tr style=\"text-align: right;\">\n",
       "      <th></th>\n",
       "      <th>num_unique_dates</th>\n",
       "    </tr>\n",
       "  </thead>\n",
       "  <tbody>\n",
       "    <tr>\n",
       "      <th>0</th>\n",
       "      <td>366</td>\n",
       "    </tr>\n",
       "  </tbody>\n",
       "</table>\n",
       "</div>"
      ],
      "text/plain": [
       "   num_unique_dates\n",
       "0               366"
      ]
     },
     "execution_count": 74,
     "metadata": {},
     "output_type": "execute_result"
    }
   ],
   "source": [
    "query = \"\"\"\n",
    "SELECT\n",
    "    COUNT(DISTINCT date) as num_unique_dates\n",
    "FROM attendance_cleaned\n",
    "\"\"\"\n",
    "\n",
    "pd.read_sql(query, engine)"
   ]
  },
  {
   "cell_type": "markdown",
   "id": "42b511d1",
   "metadata": {},
   "source": [
    "Which message types are most common in the communication table?"
   ]
  },
  {
   "cell_type": "code",
   "execution_count": 75,
   "id": "313f8dc0",
   "metadata": {},
   "outputs": [
    {
     "data": {
      "text/html": [
       "<div>\n",
       "<style scoped>\n",
       "    .dataframe tbody tr th:only-of-type {\n",
       "        vertical-align: middle;\n",
       "    }\n",
       "\n",
       "    .dataframe tbody tr th {\n",
       "        vertical-align: top;\n",
       "    }\n",
       "\n",
       "    .dataframe thead th {\n",
       "        text-align: right;\n",
       "    }\n",
       "</style>\n",
       "<table border=\"1\" class=\"dataframe\">\n",
       "  <thead>\n",
       "    <tr style=\"text-align: right;\">\n",
       "      <th></th>\n",
       "      <th>message_type</th>\n",
       "      <th>messages_num</th>\n",
       "    </tr>\n",
       "  </thead>\n",
       "  <tbody>\n",
       "    <tr>\n",
       "      <th>0</th>\n",
       "      <td>Automated Reminder</td>\n",
       "      <td>7695</td>\n",
       "    </tr>\n",
       "    <tr>\n",
       "      <th>1</th>\n",
       "      <td>Parent to Teacher</td>\n",
       "      <td>7636</td>\n",
       "    </tr>\n",
       "    <tr>\n",
       "      <th>2</th>\n",
       "      <td>Teacher to Parent</td>\n",
       "      <td>7754</td>\n",
       "    </tr>\n",
       "  </tbody>\n",
       "</table>\n",
       "</div>"
      ],
      "text/plain": [
       "         message_type  messages_num\n",
       "0  Automated Reminder          7695\n",
       "1   Parent to Teacher          7636\n",
       "2   Teacher to Parent          7754"
      ]
     },
     "execution_count": 75,
     "metadata": {},
     "output_type": "execute_result"
    }
   ],
   "source": [
    "query = \"\"\"\n",
    "SELECT\n",
    "    message_type,\n",
    "    COUNT(*) as messages_num\n",
    "FROM communication_cleaned\n",
    "GROUP BY message_type\n",
    "\"\"\"\n",
    "\n",
    "pd.read_sql(query, engine)"
   ]
  },
  {
   "cell_type": "markdown",
   "id": "2949b92e",
   "metadata": {},
   "source": [
    "How many homework assignments are recorded per subject?"
   ]
  },
  {
   "cell_type": "code",
   "execution_count": 76,
   "id": "b24e1b5d",
   "metadata": {},
   "outputs": [
    {
     "data": {
      "text/html": [
       "<div>\n",
       "<style scoped>\n",
       "    .dataframe tbody tr th:only-of-type {\n",
       "        vertical-align: middle;\n",
       "    }\n",
       "\n",
       "    .dataframe tbody tr th {\n",
       "        vertical-align: top;\n",
       "    }\n",
       "\n",
       "    .dataframe thead th {\n",
       "        text-align: right;\n",
       "    }\n",
       "</style>\n",
       "<table border=\"1\" class=\"dataframe\">\n",
       "  <thead>\n",
       "    <tr style=\"text-align: right;\">\n",
       "      <th></th>\n",
       "      <th>subject</th>\n",
       "      <th>assignment_count</th>\n",
       "    </tr>\n",
       "  </thead>\n",
       "  <tbody>\n",
       "    <tr>\n",
       "      <th>0</th>\n",
       "      <td>English</td>\n",
       "      <td>9878</td>\n",
       "    </tr>\n",
       "    <tr>\n",
       "      <th>1</th>\n",
       "      <td>Geography</td>\n",
       "      <td>9873</td>\n",
       "    </tr>\n",
       "    <tr>\n",
       "      <th>2</th>\n",
       "      <td>Science</td>\n",
       "      <td>9797</td>\n",
       "    </tr>\n",
       "    <tr>\n",
       "      <th>3</th>\n",
       "      <td>Arabic</td>\n",
       "      <td>9786</td>\n",
       "    </tr>\n",
       "    <tr>\n",
       "      <th>4</th>\n",
       "      <td>History</td>\n",
       "      <td>9784</td>\n",
       "    </tr>\n",
       "    <tr>\n",
       "      <th>5</th>\n",
       "      <td>Math</td>\n",
       "      <td>9736</td>\n",
       "    </tr>\n",
       "  </tbody>\n",
       "</table>\n",
       "</div>"
      ],
      "text/plain": [
       "     subject  assignment_count\n",
       "0    English              9878\n",
       "1  Geography              9873\n",
       "2    Science              9797\n",
       "3     Arabic              9786\n",
       "4    History              9784\n",
       "5       Math              9736"
      ]
     },
     "execution_count": 76,
     "metadata": {},
     "output_type": "execute_result"
    }
   ],
   "source": [
    "query = \"\"\"\n",
    "SELECT\n",
    "    subject,\n",
    "    COUNT(DISTINCT assignment_name) as assignment_count\n",
    "FROM homework_cleaned\n",
    "GROUP by subject\n",
    "ORDER BY assignment_count DESC\n",
    "\"\"\"\n",
    "\n",
    "pd.read_sql(query, engine)"
   ]
  },
  {
   "cell_type": "markdown",
   "id": "ac1b54b3",
   "metadata": {},
   "source": [
    "### **Attendance Patterns and Trends**"
   ]
  },
  {
   "cell_type": "markdown",
   "id": "c7e8d8c7",
   "metadata": {},
   "source": [
    "What is the total number of attendance statuses records per subject?"
   ]
  },
  {
   "cell_type": "code",
   "execution_count": 77,
   "id": "9e33c929",
   "metadata": {},
   "outputs": [],
   "source": [
    "# We count 'Late', 'Left Early', 'Present' as 'Attended Lesson', because formally they where on lesson and we want to focus more on % between 'Absent', 'Excused' and 'Attended Lesson'\n",
    "query = \"\"\"\n",
    "SELECT \n",
    "    subject,\n",
    "    CASE \n",
    "        WHEN attendance_status IN ('Late','Left Early','Present') THEN 'Attended Lesson'\n",
    "        ELSE attendance_status \n",
    "    END AS attendance_status_updated,\n",
    "    COUNT(*) AS count,\n",
    "    SUM(COUNT(*)) OVER (PARTITION BY subject) AS full_count_by_subject,\n",
    "    ROUND(COUNT(*) * 100.0 / SUM(COUNT(*)) OVER (PARTITION BY subject), 2) AS percentage\n",
    "FROM attendance_cleaned\n",
    "GROUP BY subject, attendance_status_updated\n",
    "ORDER BY subject, attendance_status_updated;\n",
    "\"\"\"\n",
    "\n",
    "subject_attendance_summary = pd.read_sql(query, engine)"
   ]
  },
  {
   "cell_type": "code",
   "execution_count": 78,
   "id": "03449f0f",
   "metadata": {},
   "outputs": [
    {
     "data": {
      "text/html": [
       "<div>\n",
       "<style scoped>\n",
       "    .dataframe tbody tr th:only-of-type {\n",
       "        vertical-align: middle;\n",
       "    }\n",
       "\n",
       "    .dataframe tbody tr th {\n",
       "        vertical-align: top;\n",
       "    }\n",
       "\n",
       "    .dataframe thead th {\n",
       "        text-align: right;\n",
       "    }\n",
       "</style>\n",
       "<table border=\"1\" class=\"dataframe\">\n",
       "  <thead>\n",
       "    <tr style=\"text-align: right;\">\n",
       "      <th></th>\n",
       "      <th>subject</th>\n",
       "      <th>total_num_statuses</th>\n",
       "    </tr>\n",
       "  </thead>\n",
       "  <tbody>\n",
       "    <tr>\n",
       "      <th>0</th>\n",
       "      <td>History</td>\n",
       "      <td>60485.0</td>\n",
       "    </tr>\n",
       "    <tr>\n",
       "      <th>1</th>\n",
       "      <td>Geography</td>\n",
       "      <td>60640.0</td>\n",
       "    </tr>\n",
       "    <tr>\n",
       "      <th>2</th>\n",
       "      <td>English</td>\n",
       "      <td>60684.0</td>\n",
       "    </tr>\n",
       "    <tr>\n",
       "      <th>3</th>\n",
       "      <td>Arabic</td>\n",
       "      <td>60749.0</td>\n",
       "    </tr>\n",
       "    <tr>\n",
       "      <th>4</th>\n",
       "      <td>Science</td>\n",
       "      <td>60881.0</td>\n",
       "    </tr>\n",
       "    <tr>\n",
       "      <th>5</th>\n",
       "      <td>Math</td>\n",
       "      <td>61241.0</td>\n",
       "    </tr>\n",
       "  </tbody>\n",
       "</table>\n",
       "</div>"
      ],
      "text/plain": [
       "     subject  total_num_statuses\n",
       "0    History             60485.0\n",
       "1  Geography             60640.0\n",
       "2    English             60684.0\n",
       "3     Arabic             60749.0\n",
       "4    Science             60881.0\n",
       "5       Math             61241.0"
      ]
     },
     "execution_count": 78,
     "metadata": {},
     "output_type": "execute_result"
    }
   ],
   "source": [
    "query = \"\"\"\n",
    "with cte as(\n",
    "SELECT \n",
    "    subject,\n",
    "    CASE \n",
    "        WHEN attendance_status IN ('Late','Left Early','Present') THEN 'Attended Lesson'\n",
    "        ELSE attendance_status \n",
    "    END AS attendance_status_updated,\n",
    "    COUNT(*) AS count,\n",
    "    SUM(COUNT(*)) OVER (PARTITION BY subject) AS full_count_by_subject,\n",
    "    ROUND(COUNT(*) * 100.0 / SUM(COUNT(*)) OVER (PARTITION BY subject), 2) AS percentage\n",
    "FROM attendance_cleaned\n",
    "GROUP BY subject, attendance_status_updated\n",
    ")\n",
    "\n",
    "SELECT DISTINCT\n",
    "    subject,\n",
    "    full_count_by_subject as total_num_statuses\n",
    "FROM cte\n",
    "ORDER BY full_count_by_subject\n",
    "\"\"\"\n",
    "\n",
    "pd.read_sql(query, engine)"
   ]
  },
  {
   "cell_type": "markdown",
   "id": "2419f804",
   "metadata": {},
   "source": [
    "Math has the highest total number of attendance records (61,241), across all statuses (Present, Absent, Excused, etc.). This suggests that Math likely had either more students enrolled or more lessons overall — or both."
   ]
  },
  {
   "cell_type": "markdown",
   "id": "a14f38cd",
   "metadata": {},
   "source": [
    "Which subjects have the lowest average attendance rate?"
   ]
  },
  {
   "cell_type": "code",
   "execution_count": 79,
   "id": "9f2c13cb",
   "metadata": {},
   "outputs": [
    {
     "data": {
      "text/html": [
       "<div>\n",
       "<style scoped>\n",
       "    .dataframe tbody tr th:only-of-type {\n",
       "        vertical-align: middle;\n",
       "    }\n",
       "\n",
       "    .dataframe tbody tr th {\n",
       "        vertical-align: top;\n",
       "    }\n",
       "\n",
       "    .dataframe thead th {\n",
       "        text-align: right;\n",
       "    }\n",
       "</style>\n",
       "<table border=\"1\" class=\"dataframe\">\n",
       "  <thead>\n",
       "    <tr style=\"text-align: right;\">\n",
       "      <th></th>\n",
       "      <th>subject</th>\n",
       "      <th>attendance_status_updated</th>\n",
       "      <th>count</th>\n",
       "      <th>full_count_by_subject</th>\n",
       "      <th>percentage</th>\n",
       "    </tr>\n",
       "  </thead>\n",
       "  <tbody>\n",
       "    <tr>\n",
       "      <th>1</th>\n",
       "      <td>Arabic</td>\n",
       "      <td>Attended Lesson</td>\n",
       "      <td>37901</td>\n",
       "      <td>60749.0</td>\n",
       "      <td>62.39</td>\n",
       "    </tr>\n",
       "    <tr>\n",
       "      <th>10</th>\n",
       "      <td>History</td>\n",
       "      <td>Attended Lesson</td>\n",
       "      <td>37808</td>\n",
       "      <td>60485.0</td>\n",
       "      <td>62.51</td>\n",
       "    </tr>\n",
       "    <tr>\n",
       "      <th>7</th>\n",
       "      <td>Geography</td>\n",
       "      <td>Attended Lesson</td>\n",
       "      <td>37919</td>\n",
       "      <td>60640.0</td>\n",
       "      <td>62.53</td>\n",
       "    </tr>\n",
       "    <tr>\n",
       "      <th>4</th>\n",
       "      <td>English</td>\n",
       "      <td>Attended Lesson</td>\n",
       "      <td>37955</td>\n",
       "      <td>60684.0</td>\n",
       "      <td>62.55</td>\n",
       "    </tr>\n",
       "    <tr>\n",
       "      <th>13</th>\n",
       "      <td>Math</td>\n",
       "      <td>Attended Lesson</td>\n",
       "      <td>38333</td>\n",
       "      <td>61241.0</td>\n",
       "      <td>62.59</td>\n",
       "    </tr>\n",
       "    <tr>\n",
       "      <th>16</th>\n",
       "      <td>Science</td>\n",
       "      <td>Attended Lesson</td>\n",
       "      <td>38150</td>\n",
       "      <td>60881.0</td>\n",
       "      <td>62.66</td>\n",
       "    </tr>\n",
       "  </tbody>\n",
       "</table>\n",
       "</div>"
      ],
      "text/plain": [
       "      subject attendance_status_updated  count  full_count_by_subject  \\\n",
       "1      Arabic           Attended Lesson  37901                60749.0   \n",
       "10    History           Attended Lesson  37808                60485.0   \n",
       "7   Geography           Attended Lesson  37919                60640.0   \n",
       "4     English           Attended Lesson  37955                60684.0   \n",
       "13       Math           Attended Lesson  38333                61241.0   \n",
       "16    Science           Attended Lesson  38150                60881.0   \n",
       "\n",
       "    percentage  \n",
       "1        62.39  \n",
       "10       62.51  \n",
       "7        62.53  \n",
       "4        62.55  \n",
       "13       62.59  \n",
       "16       62.66  "
      ]
     },
     "execution_count": 79,
     "metadata": {},
     "output_type": "execute_result"
    }
   ],
   "source": [
    "subject_attendance_summary[subject_attendance_summary['attendance_status_updated'] == 'Attended Lesson'].sort_values('percentage')"
   ]
  },
  {
   "cell_type": "code",
   "execution_count": 80,
   "id": "068aa596",
   "metadata": {},
   "outputs": [
    {
     "data": {
      "text/html": [
       "<div>\n",
       "<style scoped>\n",
       "    .dataframe tbody tr th:only-of-type {\n",
       "        vertical-align: middle;\n",
       "    }\n",
       "\n",
       "    .dataframe tbody tr th {\n",
       "        vertical-align: top;\n",
       "    }\n",
       "\n",
       "    .dataframe thead th {\n",
       "        text-align: right;\n",
       "    }\n",
       "</style>\n",
       "<table border=\"1\" class=\"dataframe\">\n",
       "  <thead>\n",
       "    <tr style=\"text-align: right;\">\n",
       "      <th></th>\n",
       "      <th>subject</th>\n",
       "      <th>attendance_status_updated</th>\n",
       "      <th>count</th>\n",
       "      <th>full_count_by_subject</th>\n",
       "      <th>percentage</th>\n",
       "    </tr>\n",
       "  </thead>\n",
       "  <tbody>\n",
       "    <tr>\n",
       "      <th>3</th>\n",
       "      <td>English</td>\n",
       "      <td>Absent</td>\n",
       "      <td>15105</td>\n",
       "      <td>60684.0</td>\n",
       "      <td>24.89</td>\n",
       "    </tr>\n",
       "    <tr>\n",
       "      <th>15</th>\n",
       "      <td>Science</td>\n",
       "      <td>Absent</td>\n",
       "      <td>15167</td>\n",
       "      <td>60881.0</td>\n",
       "      <td>24.91</td>\n",
       "    </tr>\n",
       "    <tr>\n",
       "      <th>9</th>\n",
       "      <td>History</td>\n",
       "      <td>Absent</td>\n",
       "      <td>15080</td>\n",
       "      <td>60485.0</td>\n",
       "      <td>24.93</td>\n",
       "    </tr>\n",
       "    <tr>\n",
       "      <th>6</th>\n",
       "      <td>Geography</td>\n",
       "      <td>Absent</td>\n",
       "      <td>15200</td>\n",
       "      <td>60640.0</td>\n",
       "      <td>25.07</td>\n",
       "    </tr>\n",
       "    <tr>\n",
       "      <th>12</th>\n",
       "      <td>Math</td>\n",
       "      <td>Absent</td>\n",
       "      <td>15364</td>\n",
       "      <td>61241.0</td>\n",
       "      <td>25.09</td>\n",
       "    </tr>\n",
       "    <tr>\n",
       "      <th>0</th>\n",
       "      <td>Arabic</td>\n",
       "      <td>Absent</td>\n",
       "      <td>15313</td>\n",
       "      <td>60749.0</td>\n",
       "      <td>25.21</td>\n",
       "    </tr>\n",
       "  </tbody>\n",
       "</table>\n",
       "</div>"
      ],
      "text/plain": [
       "      subject attendance_status_updated  count  full_count_by_subject  \\\n",
       "3     English                    Absent  15105                60684.0   \n",
       "15    Science                    Absent  15167                60881.0   \n",
       "9     History                    Absent  15080                60485.0   \n",
       "6   Geography                    Absent  15200                60640.0   \n",
       "12       Math                    Absent  15364                61241.0   \n",
       "0      Arabic                    Absent  15313                60749.0   \n",
       "\n",
       "    percentage  \n",
       "3        24.89  \n",
       "15       24.91  \n",
       "9        24.93  \n",
       "6        25.07  \n",
       "12       25.09  \n",
       "0        25.21  "
      ]
     },
     "execution_count": 80,
     "metadata": {},
     "output_type": "execute_result"
    }
   ],
   "source": [
    "subject_attendance_summary[subject_attendance_summary['attendance_status_updated'] == 'Absent'].sort_values('percentage')"
   ]
  },
  {
   "cell_type": "code",
   "execution_count": 81,
   "id": "d5eee698",
   "metadata": {},
   "outputs": [
    {
     "data": {
      "text/html": [
       "<div>\n",
       "<style scoped>\n",
       "    .dataframe tbody tr th:only-of-type {\n",
       "        vertical-align: middle;\n",
       "    }\n",
       "\n",
       "    .dataframe tbody tr th {\n",
       "        vertical-align: top;\n",
       "    }\n",
       "\n",
       "    .dataframe thead th {\n",
       "        text-align: right;\n",
       "    }\n",
       "</style>\n",
       "<table border=\"1\" class=\"dataframe\">\n",
       "  <thead>\n",
       "    <tr style=\"text-align: right;\">\n",
       "      <th></th>\n",
       "      <th>subject</th>\n",
       "      <th>attendance_status_updated</th>\n",
       "      <th>count</th>\n",
       "      <th>full_count_by_subject</th>\n",
       "      <th>percentage</th>\n",
       "    </tr>\n",
       "  </thead>\n",
       "  <tbody>\n",
       "    <tr>\n",
       "      <th>14</th>\n",
       "      <td>Math</td>\n",
       "      <td>Excused</td>\n",
       "      <td>7544</td>\n",
       "      <td>61241.0</td>\n",
       "      <td>12.32</td>\n",
       "    </tr>\n",
       "    <tr>\n",
       "      <th>2</th>\n",
       "      <td>Arabic</td>\n",
       "      <td>Excused</td>\n",
       "      <td>7535</td>\n",
       "      <td>60749.0</td>\n",
       "      <td>12.40</td>\n",
       "    </tr>\n",
       "    <tr>\n",
       "      <th>8</th>\n",
       "      <td>Geography</td>\n",
       "      <td>Excused</td>\n",
       "      <td>7521</td>\n",
       "      <td>60640.0</td>\n",
       "      <td>12.40</td>\n",
       "    </tr>\n",
       "    <tr>\n",
       "      <th>17</th>\n",
       "      <td>Science</td>\n",
       "      <td>Excused</td>\n",
       "      <td>7564</td>\n",
       "      <td>60881.0</td>\n",
       "      <td>12.42</td>\n",
       "    </tr>\n",
       "    <tr>\n",
       "      <th>5</th>\n",
       "      <td>English</td>\n",
       "      <td>Excused</td>\n",
       "      <td>7624</td>\n",
       "      <td>60684.0</td>\n",
       "      <td>12.56</td>\n",
       "    </tr>\n",
       "    <tr>\n",
       "      <th>11</th>\n",
       "      <td>History</td>\n",
       "      <td>Excused</td>\n",
       "      <td>7597</td>\n",
       "      <td>60485.0</td>\n",
       "      <td>12.56</td>\n",
       "    </tr>\n",
       "  </tbody>\n",
       "</table>\n",
       "</div>"
      ],
      "text/plain": [
       "      subject attendance_status_updated  count  full_count_by_subject  \\\n",
       "14       Math                   Excused   7544                61241.0   \n",
       "2      Arabic                   Excused   7535                60749.0   \n",
       "8   Geography                   Excused   7521                60640.0   \n",
       "17    Science                   Excused   7564                60881.0   \n",
       "5     English                   Excused   7624                60684.0   \n",
       "11    History                   Excused   7597                60485.0   \n",
       "\n",
       "    percentage  \n",
       "14       12.32  \n",
       "2        12.40  \n",
       "8        12.40  \n",
       "17       12.42  \n",
       "5        12.56  \n",
       "11       12.56  "
      ]
     },
     "execution_count": 81,
     "metadata": {},
     "output_type": "execute_result"
    }
   ],
   "source": [
    "subject_attendance_summary[subject_attendance_summary['attendance_status_updated'] == 'Excused'].sort_values('percentage')"
   ]
  },
  {
   "cell_type": "markdown",
   "id": "da01fbd9",
   "metadata": {},
   "source": [
    "The attendance distribution is remarkably consistent across subjects: roughly 62% of sessions were attended, 25% absent, and 12% excused. This indicates no subject has a significant deviation in attendance behavior."
   ]
  },
  {
   "cell_type": "markdown",
   "id": "77dc05ac",
   "metadata": {},
   "source": [
    "Which students have the highest and lowest attendance rates?"
   ]
  },
  {
   "cell_type": "code",
   "execution_count": 82,
   "id": "a05e563c",
   "metadata": {},
   "outputs": [],
   "source": [
    "query = \"\"\"\n",
    "SELECT\n",
    "    student_id,\n",
    "    CASE \n",
    "        WHEN attendance_status IN ('Late','Left Early','Present') THEN 'Attended Lesson'\n",
    "        ELSE attendance_status \n",
    "    END AS attendance_status_updated,\n",
    "    COUNT(*) as count,\n",
    "    SUM(COUNT(*)) OVER (Partition by student_id) as full_count_by_student,\n",
    "    ROUND(COUNT(*)/SUM(COUNT(*)) OVER (Partition by student_id) , 2) * 100 as percentage\n",
    "FROM attendance_cleaned\n",
    "GROUP BY student_id, attendance_status_updated\n",
    "ORDER BY student_id, attendance_status_updated\n",
    "\"\"\"\n",
    "\n",
    "students_attendance_summary = pd.read_sql(query, engine)"
   ]
  },
  {
   "cell_type": "code",
   "execution_count": 83,
   "id": "57dc710f",
   "metadata": {},
   "outputs": [
    {
     "data": {
      "text/html": [
       "<div>\n",
       "<style scoped>\n",
       "    .dataframe tbody tr th:only-of-type {\n",
       "        vertical-align: middle;\n",
       "    }\n",
       "\n",
       "    .dataframe tbody tr th {\n",
       "        vertical-align: top;\n",
       "    }\n",
       "\n",
       "    .dataframe thead th {\n",
       "        text-align: right;\n",
       "    }\n",
       "</style>\n",
       "<table border=\"1\" class=\"dataframe\">\n",
       "  <thead>\n",
       "    <tr style=\"text-align: right;\">\n",
       "      <th></th>\n",
       "      <th>student_id</th>\n",
       "      <th>attendance_status_updated</th>\n",
       "      <th>percentage</th>\n",
       "    </tr>\n",
       "  </thead>\n",
       "  <tbody>\n",
       "    <tr>\n",
       "      <th>0</th>\n",
       "      <td>S00001</td>\n",
       "      <td>Absent</td>\n",
       "      <td>26.0</td>\n",
       "    </tr>\n",
       "    <tr>\n",
       "      <th>1</th>\n",
       "      <td>S00001</td>\n",
       "      <td>Attended Lesson</td>\n",
       "      <td>67.0</td>\n",
       "    </tr>\n",
       "    <tr>\n",
       "      <th>2</th>\n",
       "      <td>S00001</td>\n",
       "      <td>Excused</td>\n",
       "      <td>8.0</td>\n",
       "    </tr>\n",
       "    <tr>\n",
       "      <th>3</th>\n",
       "      <td>S00002</td>\n",
       "      <td>Absent</td>\n",
       "      <td>36.0</td>\n",
       "    </tr>\n",
       "    <tr>\n",
       "      <th>4</th>\n",
       "      <td>S00002</td>\n",
       "      <td>Attended Lesson</td>\n",
       "      <td>64.0</td>\n",
       "    </tr>\n",
       "    <tr>\n",
       "      <th>5</th>\n",
       "      <td>S00003</td>\n",
       "      <td>Absent</td>\n",
       "      <td>16.0</td>\n",
       "    </tr>\n",
       "  </tbody>\n",
       "</table>\n",
       "</div>"
      ],
      "text/plain": [
       "  student_id attendance_status_updated  percentage\n",
       "0     S00001                    Absent        26.0\n",
       "1     S00001           Attended Lesson        67.0\n",
       "2     S00001                   Excused         8.0\n",
       "3     S00002                    Absent        36.0\n",
       "4     S00002           Attended Lesson        64.0\n",
       "5     S00003                    Absent        16.0"
      ]
     },
     "execution_count": 83,
     "metadata": {},
     "output_type": "execute_result"
    }
   ],
   "source": [
    "students_attendance_summary[['student_id', 'attendance_status_updated', 'percentage']].head(6)"
   ]
  },
  {
   "cell_type": "code",
   "execution_count": 84,
   "id": "bd174e76",
   "metadata": {},
   "outputs": [
    {
     "data": {
      "text/html": [
       "<div>\n",
       "<style scoped>\n",
       "    .dataframe tbody tr th:only-of-type {\n",
       "        vertical-align: middle;\n",
       "    }\n",
       "\n",
       "    .dataframe tbody tr th {\n",
       "        vertical-align: top;\n",
       "    }\n",
       "\n",
       "    .dataframe thead th {\n",
       "        text-align: right;\n",
       "    }\n",
       "</style>\n",
       "<table border=\"1\" class=\"dataframe\">\n",
       "  <thead>\n",
       "    <tr style=\"text-align: right;\">\n",
       "      <th></th>\n",
       "      <th>student_id</th>\n",
       "      <th>full_name</th>\n",
       "      <th>attendance_percentage</th>\n",
       "    </tr>\n",
       "  </thead>\n",
       "  <tbody>\n",
       "    <tr>\n",
       "      <th>0</th>\n",
       "      <td>S08730</td>\n",
       "      <td>Zachary Mitchell</td>\n",
       "      <td>25.0</td>\n",
       "    </tr>\n",
       "    <tr>\n",
       "      <th>1</th>\n",
       "      <td>S04480</td>\n",
       "      <td>Victoria Nguyen</td>\n",
       "      <td>25.0</td>\n",
       "    </tr>\n",
       "    <tr>\n",
       "      <th>2</th>\n",
       "      <td>S00311</td>\n",
       "      <td>Alexandra King</td>\n",
       "      <td>100.0</td>\n",
       "    </tr>\n",
       "  </tbody>\n",
       "</table>\n",
       "</div>"
      ],
      "text/plain": [
       "  student_id         full_name  attendance_percentage\n",
       "0     S08730  Zachary Mitchell                   25.0\n",
       "1     S04480   Victoria Nguyen                   25.0\n",
       "2     S00311    Alexandra King                  100.0"
      ]
     },
     "execution_count": 84,
     "metadata": {},
     "output_type": "execute_result"
    }
   ],
   "source": [
    "query = \"\"\"\n",
    "with cte as (\n",
    "SELECT\n",
    "    student_id,\n",
    "    CASE \n",
    "        WHEN attendance_status IN ('Late','Left Early','Present') THEN 'Attended Lesson'\n",
    "        ELSE attendance_status \n",
    "    END AS attendance_status_updated,\n",
    "    COUNT(*) as count,\n",
    "    SUM(COUNT(*)) OVER (Partition by student_id) as full_count_by_student,\n",
    "    ROUND(COUNT(*)/SUM(COUNT(*)) OVER (Partition by student_id) , 2) * 100 as percentage\n",
    "FROM attendance_cleaned\n",
    "GROUP BY student_id, attendance_status_updated\n",
    "ORDER BY student_id, attendance_status_updated\n",
    "),\n",
    "\n",
    "cte_percentage AS (\n",
    "    SELECT\n",
    "        student_id,\n",
    "        percentage as attendance_percentage,\n",
    "        attendance_status_updated,\n",
    "        MIN(percentage) OVER () AS min_percentage,\n",
    "        MAX(percentage) OVER () AS max_percentage\n",
    "    FROM cte\n",
    "    WHERE attendance_status_updated = 'Attended Lesson'\n",
    ")\n",
    "\n",
    "SELECT \n",
    "    cp.student_id,\n",
    "    s.full_name, \n",
    "    cp.attendance_percentage\n",
    "FROM cte_percentage cp\n",
    "JOIN students_cleaned s ON s.student_id = cp.student_id\n",
    "WHERE attendance_percentage = min_percentage\n",
    "   OR attendance_percentage = max_percentage\n",
    "ORDER BY attendance_percentage;\n",
    "\n",
    "\"\"\"\n",
    "\n",
    "pd.read_sql(query, engine)"
   ]
  },
  {
   "cell_type": "markdown",
   "id": "cbf01bb9",
   "metadata": {},
   "source": [
    "Alexandra King has the highest attendance rate at 100%, while Zachary Mitchell and Victoria Nguyen have the lowest attendance rate at 25%."
   ]
  },
  {
   "cell_type": "markdown",
   "id": "fadbe9d4",
   "metadata": {},
   "source": [
    "What is average attendance rate?"
   ]
  },
  {
   "cell_type": "code",
   "execution_count": 85,
   "id": "8be77d09",
   "metadata": {},
   "outputs": [
    {
     "data": {
      "text/html": [
       "<div>\n",
       "<style scoped>\n",
       "    .dataframe tbody tr th:only-of-type {\n",
       "        vertical-align: middle;\n",
       "    }\n",
       "\n",
       "    .dataframe tbody tr th {\n",
       "        vertical-align: top;\n",
       "    }\n",
       "\n",
       "    .dataframe thead th {\n",
       "        text-align: right;\n",
       "    }\n",
       "</style>\n",
       "<table border=\"1\" class=\"dataframe\">\n",
       "  <thead>\n",
       "    <tr style=\"text-align: right;\">\n",
       "      <th></th>\n",
       "      <th>avg_attendance_percentage</th>\n",
       "    </tr>\n",
       "  </thead>\n",
       "  <tbody>\n",
       "    <tr>\n",
       "      <th>0</th>\n",
       "      <td>62.62</td>\n",
       "    </tr>\n",
       "  </tbody>\n",
       "</table>\n",
       "</div>"
      ],
      "text/plain": [
       "   avg_attendance_percentage\n",
       "0                      62.62"
      ]
     },
     "execution_count": 85,
     "metadata": {},
     "output_type": "execute_result"
    }
   ],
   "source": [
    "query = \"\"\"\n",
    "WITH cte AS (\n",
    "SELECT\n",
    "    student_id,\n",
    "    CASE \n",
    "        WHEN attendance_status IN ('Late','Left Early','Present') THEN 'Attended Lesson'\n",
    "        ELSE attendance_status \n",
    "    END AS attendance_status_updated,\n",
    "    COUNT(*) as count,\n",
    "    SUM(COUNT(*)) OVER (Partition by student_id) as full_count_by_student,\n",
    "    ROUND(COUNT(*)/SUM(COUNT(*)) OVER (Partition by student_id) , 2) * 100 as percentage\n",
    "FROM attendance_cleaned\n",
    "GROUP BY student_id, attendance_status_updated\n",
    "ORDER BY student_id, attendance_status_updated\n",
    ")\n",
    "\n",
    "SELECT\n",
    "ROUND(AVG(percentage), 2) as avg_attendance_percentage\n",
    "FROM cte\n",
    "WHERE attendance_status_updated = 'Attended Lesson'\n",
    "\"\"\"\n",
    "\n",
    "pd.read_sql(query, engine)"
   ]
  },
  {
   "cell_type": "markdown",
   "id": "ab333952",
   "metadata": {},
   "source": [
    "How does attendance vary by grade level?"
   ]
  },
  {
   "cell_type": "code",
   "execution_count": 86,
   "id": "3d83ac2c",
   "metadata": {},
   "outputs": [
    {
     "data": {
      "text/html": [
       "<div>\n",
       "<style scoped>\n",
       "    .dataframe tbody tr th:only-of-type {\n",
       "        vertical-align: middle;\n",
       "    }\n",
       "\n",
       "    .dataframe tbody tr th {\n",
       "        vertical-align: top;\n",
       "    }\n",
       "\n",
       "    .dataframe thead th {\n",
       "        text-align: right;\n",
       "    }\n",
       "</style>\n",
       "<table border=\"1\" class=\"dataframe\">\n",
       "  <thead>\n",
       "    <tr style=\"text-align: right;\">\n",
       "      <th></th>\n",
       "      <th>grade_level</th>\n",
       "      <th>avg_attendance_percentage</th>\n",
       "    </tr>\n",
       "  </thead>\n",
       "  <tbody>\n",
       "    <tr>\n",
       "      <th>0</th>\n",
       "      <td>1</td>\n",
       "      <td>62.57</td>\n",
       "    </tr>\n",
       "    <tr>\n",
       "      <th>1</th>\n",
       "      <td>2</td>\n",
       "      <td>62.74</td>\n",
       "    </tr>\n",
       "    <tr>\n",
       "      <th>2</th>\n",
       "      <td>3</td>\n",
       "      <td>62.57</td>\n",
       "    </tr>\n",
       "    <tr>\n",
       "      <th>3</th>\n",
       "      <td>4</td>\n",
       "      <td>62.69</td>\n",
       "    </tr>\n",
       "    <tr>\n",
       "      <th>4</th>\n",
       "      <td>5</td>\n",
       "      <td>62.52</td>\n",
       "    </tr>\n",
       "  </tbody>\n",
       "</table>\n",
       "</div>"
      ],
      "text/plain": [
       "   grade_level  avg_attendance_percentage\n",
       "0            1                      62.57\n",
       "1            2                      62.74\n",
       "2            3                      62.57\n",
       "3            4                      62.69\n",
       "4            5                      62.52"
      ]
     },
     "execution_count": 86,
     "metadata": {},
     "output_type": "execute_result"
    }
   ],
   "source": [
    "query = \"\"\"\n",
    "WITH cte AS (\n",
    "SELECT\n",
    "    student_id,\n",
    "    CASE \n",
    "        WHEN attendance_status IN ('Late','Left Early','Present') THEN 'Attended Lesson'\n",
    "        ELSE attendance_status \n",
    "    END AS attendance_status_updated,\n",
    "    COUNT(*) as count,\n",
    "    SUM(COUNT(*)) OVER (Partition by student_id) as full_count_by_student,\n",
    "    ROUND(COUNT(*)/SUM(COUNT(*)) OVER (Partition by student_id) , 2) * 100 as percentage\n",
    "FROM attendance_cleaned\n",
    "GROUP BY student_id, attendance_status_updated\n",
    "ORDER BY student_id, attendance_status_updated\n",
    ")\n",
    "\n",
    "SELECT \n",
    "    sc.grade_level, \n",
    "    ROUND(AVG(c.percentage), 2) as avg_attendance_percentage\n",
    "FROM cte c\n",
    "JOIN students_cleaned sc ON sc.student_id = c.student_id\n",
    "WHERE attendance_status_updated = 'Attended Lesson'\n",
    "GROUP BY grade_level\n",
    "ORDER BY grade_level\n",
    "\"\"\"\n",
    "\n",
    "pd.read_sql(query, engine)"
   ]
  },
  {
   "cell_type": "markdown",
   "id": "726f47da",
   "metadata": {},
   "source": [
    "Attendance rate almost does not vary between grades."
   ]
  },
  {
   "cell_type": "markdown",
   "id": "eb86e0be",
   "metadata": {},
   "source": [
    "Are there any noticeable seasonal attendance patterns?"
   ]
  },
  {
   "cell_type": "code",
   "execution_count": 87,
   "id": "b0320254",
   "metadata": {},
   "outputs": [
    {
     "data": {
      "text/html": [
       "<div>\n",
       "<style scoped>\n",
       "    .dataframe tbody tr th:only-of-type {\n",
       "        vertical-align: middle;\n",
       "    }\n",
       "\n",
       "    .dataframe tbody tr th {\n",
       "        vertical-align: top;\n",
       "    }\n",
       "\n",
       "    .dataframe thead th {\n",
       "        text-align: right;\n",
       "    }\n",
       "</style>\n",
       "<table border=\"1\" class=\"dataframe\">\n",
       "  <thead>\n",
       "    <tr style=\"text-align: right;\">\n",
       "      <th></th>\n",
       "      <th>season</th>\n",
       "      <th>attendance_status_updated</th>\n",
       "      <th>count</th>\n",
       "      <th>season_count</th>\n",
       "      <th>percentage</th>\n",
       "    </tr>\n",
       "  </thead>\n",
       "  <tbody>\n",
       "    <tr>\n",
       "      <th>0</th>\n",
       "      <td>Autumn</td>\n",
       "      <td>Absent</td>\n",
       "      <td>22723</td>\n",
       "      <td>90892.0</td>\n",
       "      <td>25.0</td>\n",
       "    </tr>\n",
       "    <tr>\n",
       "      <th>1</th>\n",
       "      <td>Autumn</td>\n",
       "      <td>Attended Lesson</td>\n",
       "      <td>56853</td>\n",
       "      <td>90892.0</td>\n",
       "      <td>63.0</td>\n",
       "    </tr>\n",
       "    <tr>\n",
       "      <th>2</th>\n",
       "      <td>Autumn</td>\n",
       "      <td>Excused</td>\n",
       "      <td>11316</td>\n",
       "      <td>90892.0</td>\n",
       "      <td>12.0</td>\n",
       "    </tr>\n",
       "    <tr>\n",
       "      <th>3</th>\n",
       "      <td>Spring</td>\n",
       "      <td>Absent</td>\n",
       "      <td>22954</td>\n",
       "      <td>92799.0</td>\n",
       "      <td>25.0</td>\n",
       "    </tr>\n",
       "    <tr>\n",
       "      <th>4</th>\n",
       "      <td>Spring</td>\n",
       "      <td>Attended Lesson</td>\n",
       "      <td>58475</td>\n",
       "      <td>92799.0</td>\n",
       "      <td>63.0</td>\n",
       "    </tr>\n",
       "    <tr>\n",
       "      <th>5</th>\n",
       "      <td>Spring</td>\n",
       "      <td>Excused</td>\n",
       "      <td>11370</td>\n",
       "      <td>92799.0</td>\n",
       "      <td>12.0</td>\n",
       "    </tr>\n",
       "    <tr>\n",
       "      <th>6</th>\n",
       "      <td>Summer</td>\n",
       "      <td>Absent</td>\n",
       "      <td>23005</td>\n",
       "      <td>91515.0</td>\n",
       "      <td>25.0</td>\n",
       "    </tr>\n",
       "    <tr>\n",
       "      <th>7</th>\n",
       "      <td>Summer</td>\n",
       "      <td>Attended Lesson</td>\n",
       "      <td>56997</td>\n",
       "      <td>91515.0</td>\n",
       "      <td>62.0</td>\n",
       "    </tr>\n",
       "    <tr>\n",
       "      <th>8</th>\n",
       "      <td>Summer</td>\n",
       "      <td>Excused</td>\n",
       "      <td>11513</td>\n",
       "      <td>91515.0</td>\n",
       "      <td>13.0</td>\n",
       "    </tr>\n",
       "    <tr>\n",
       "      <th>9</th>\n",
       "      <td>Winter</td>\n",
       "      <td>Absent</td>\n",
       "      <td>22547</td>\n",
       "      <td>89474.0</td>\n",
       "      <td>25.0</td>\n",
       "    </tr>\n",
       "    <tr>\n",
       "      <th>10</th>\n",
       "      <td>Winter</td>\n",
       "      <td>Attended Lesson</td>\n",
       "      <td>55741</td>\n",
       "      <td>89474.0</td>\n",
       "      <td>62.0</td>\n",
       "    </tr>\n",
       "    <tr>\n",
       "      <th>11</th>\n",
       "      <td>Winter</td>\n",
       "      <td>Excused</td>\n",
       "      <td>11186</td>\n",
       "      <td>89474.0</td>\n",
       "      <td>13.0</td>\n",
       "    </tr>\n",
       "  </tbody>\n",
       "</table>\n",
       "</div>"
      ],
      "text/plain": [
       "    season attendance_status_updated  count  season_count  percentage\n",
       "0   Autumn                    Absent  22723       90892.0        25.0\n",
       "1   Autumn           Attended Lesson  56853       90892.0        63.0\n",
       "2   Autumn                   Excused  11316       90892.0        12.0\n",
       "3   Spring                    Absent  22954       92799.0        25.0\n",
       "4   Spring           Attended Lesson  58475       92799.0        63.0\n",
       "5   Spring                   Excused  11370       92799.0        12.0\n",
       "6   Summer                    Absent  23005       91515.0        25.0\n",
       "7   Summer           Attended Lesson  56997       91515.0        62.0\n",
       "8   Summer                   Excused  11513       91515.0        13.0\n",
       "9   Winter                    Absent  22547       89474.0        25.0\n",
       "10  Winter           Attended Lesson  55741       89474.0        62.0\n",
       "11  Winter                   Excused  11186       89474.0        13.0"
      ]
     },
     "execution_count": 87,
     "metadata": {},
     "output_type": "execute_result"
    }
   ],
   "source": [
    "query = \"\"\"\n",
    "WITH cte AS (\n",
    "SELECT\n",
    "    student_id,\n",
    "    date,\n",
    "    CASE \n",
    "        WHEN MONTH(date) IN (12, 1, 2) THEN 'Winter'\n",
    "        WHEN MONTH(date) IN (3, 4, 5) THEN 'Spring'\n",
    "        WHEN MONTH(date) IN (6, 7, 8) THEN 'Summer'\n",
    "        WHEN MONTH(date) IN (9, 10, 11) THEN 'Autumn'\n",
    "    END as season,\n",
    "    CASE \n",
    "        WHEN attendance_status IN ('Late','Left Early','Present') THEN 'Attended Lesson'\n",
    "        ELSE attendance_status \n",
    "    END AS attendance_status_updated\n",
    "FROM attendance_cleaned\n",
    ")\n",
    "\n",
    "SELECT\n",
    "    season,\n",
    "    attendance_status_updated,\n",
    "    COUNT(season) as count,\n",
    "    SUM(COUNT(season)) OVER (Partition BY season) as season_count,\n",
    "    ROUND(COUNT(season)/ SUM(COUNT(season)) OVER (Partition BY season), 2) * 100 as percentage\n",
    "FROM cte\n",
    "GROUP BY season, attendance_status_updated\n",
    "ORDER BY season, attendance_status_updated\n",
    "\"\"\"\n",
    "\n",
    "pd.read_sql(query, engine)"
   ]
  },
  {
   "cell_type": "markdown",
   "id": "54275e85",
   "metadata": {},
   "source": [
    "As we can see, we have any seasonal patterns."
   ]
  },
  {
   "cell_type": "markdown",
   "id": "b40049b9",
   "metadata": {},
   "source": [
    "### **Homework and Guardian Engagement**"
   ]
  },
  {
   "cell_type": "markdown",
   "id": "5f8090bc",
   "metadata": {},
   "source": [
    "How many homework assignments were completed vs not completed overall?"
   ]
  },
  {
   "cell_type": "code",
   "execution_count": 88,
   "id": "bd1d06d3",
   "metadata": {},
   "outputs": [
    {
     "data": {
      "text/html": [
       "<div>\n",
       "<style scoped>\n",
       "    .dataframe tbody tr th:only-of-type {\n",
       "        vertical-align: middle;\n",
       "    }\n",
       "\n",
       "    .dataframe tbody tr th {\n",
       "        vertical-align: top;\n",
       "    }\n",
       "\n",
       "    .dataframe thead th {\n",
       "        text-align: right;\n",
       "    }\n",
       "</style>\n",
       "<table border=\"1\" class=\"dataframe\">\n",
       "  <thead>\n",
       "    <tr style=\"text-align: right;\">\n",
       "      <th></th>\n",
       "      <th>status</th>\n",
       "      <th>count</th>\n",
       "      <th>total_homeworks</th>\n",
       "      <th>percentage</th>\n",
       "    </tr>\n",
       "  </thead>\n",
       "  <tbody>\n",
       "    <tr>\n",
       "      <th>0</th>\n",
       "      <td>Done</td>\n",
       "      <td>30381</td>\n",
       "      <td>60780.0</td>\n",
       "      <td>50.0</td>\n",
       "    </tr>\n",
       "    <tr>\n",
       "      <th>1</th>\n",
       "      <td>Not Done</td>\n",
       "      <td>20385</td>\n",
       "      <td>60780.0</td>\n",
       "      <td>34.0</td>\n",
       "    </tr>\n",
       "    <tr>\n",
       "      <th>2</th>\n",
       "      <td>Pending</td>\n",
       "      <td>10014</td>\n",
       "      <td>60780.0</td>\n",
       "      <td>16.0</td>\n",
       "    </tr>\n",
       "  </tbody>\n",
       "</table>\n",
       "</div>"
      ],
      "text/plain": [
       "     status  count  total_homeworks  percentage\n",
       "0      Done  30381          60780.0        50.0\n",
       "1  Not Done  20385          60780.0        34.0\n",
       "2   Pending  10014          60780.0        16.0"
      ]
     },
     "execution_count": 88,
     "metadata": {},
     "output_type": "execute_result"
    }
   ],
   "source": [
    "query = \"\"\"\n",
    "SELECT \n",
    "    status,\n",
    "    COUNT(status) as count,\n",
    "    SUM(COUNT(status)) OVER () as total_homeworks,\n",
    "    ROUND(COUNT(status) / SUM(COUNT(status)) OVER (), 2) * 100 as percentage\n",
    "FROM homework_cleaned\n",
    "GROUP BY status\n",
    "ORDER BY ROUND(COUNT(status) / SUM(COUNT(status)) OVER (), 2) * 100 DESC\n",
    "\"\"\"\n",
    "\n",
    "pd.read_sql(query, engine)"
   ]
  },
  {
   "cell_type": "markdown",
   "id": "e5731d3d",
   "metadata": {},
   "source": [
    "Which subjects have the highest homework completion rates?"
   ]
  },
  {
   "cell_type": "code",
   "execution_count": 89,
   "id": "b11e3264",
   "metadata": {},
   "outputs": [
    {
     "data": {
      "text/html": [
       "<div>\n",
       "<style scoped>\n",
       "    .dataframe tbody tr th:only-of-type {\n",
       "        vertical-align: middle;\n",
       "    }\n",
       "\n",
       "    .dataframe tbody tr th {\n",
       "        vertical-align: top;\n",
       "    }\n",
       "\n",
       "    .dataframe thead th {\n",
       "        text-align: right;\n",
       "    }\n",
       "</style>\n",
       "<table border=\"1\" class=\"dataframe\">\n",
       "  <thead>\n",
       "    <tr style=\"text-align: right;\">\n",
       "      <th></th>\n",
       "      <th>subject</th>\n",
       "      <th>status</th>\n",
       "      <th>count</th>\n",
       "      <th>total_homeworks</th>\n",
       "      <th>percentage</th>\n",
       "    </tr>\n",
       "  </thead>\n",
       "  <tbody>\n",
       "    <tr>\n",
       "      <th>0</th>\n",
       "      <td>Arabic</td>\n",
       "      <td>Done</td>\n",
       "      <td>5044</td>\n",
       "      <td>10106.0</td>\n",
       "      <td>50.0</td>\n",
       "    </tr>\n",
       "    <tr>\n",
       "      <th>1</th>\n",
       "      <td>Arabic</td>\n",
       "      <td>Not Done</td>\n",
       "      <td>3367</td>\n",
       "      <td>10106.0</td>\n",
       "      <td>33.0</td>\n",
       "    </tr>\n",
       "    <tr>\n",
       "      <th>2</th>\n",
       "      <td>Arabic</td>\n",
       "      <td>Pending</td>\n",
       "      <td>1695</td>\n",
       "      <td>10106.0</td>\n",
       "      <td>17.0</td>\n",
       "    </tr>\n",
       "    <tr>\n",
       "      <th>3</th>\n",
       "      <td>English</td>\n",
       "      <td>Done</td>\n",
       "      <td>5100</td>\n",
       "      <td>10209.0</td>\n",
       "      <td>50.0</td>\n",
       "    </tr>\n",
       "    <tr>\n",
       "      <th>4</th>\n",
       "      <td>English</td>\n",
       "      <td>Not Done</td>\n",
       "      <td>3430</td>\n",
       "      <td>10209.0</td>\n",
       "      <td>34.0</td>\n",
       "    </tr>\n",
       "    <tr>\n",
       "      <th>5</th>\n",
       "      <td>English</td>\n",
       "      <td>Pending</td>\n",
       "      <td>1679</td>\n",
       "      <td>10209.0</td>\n",
       "      <td>16.0</td>\n",
       "    </tr>\n",
       "    <tr>\n",
       "      <th>6</th>\n",
       "      <td>Geography</td>\n",
       "      <td>Done</td>\n",
       "      <td>5135</td>\n",
       "      <td>10179.0</td>\n",
       "      <td>50.0</td>\n",
       "    </tr>\n",
       "    <tr>\n",
       "      <th>7</th>\n",
       "      <td>Geography</td>\n",
       "      <td>Not Done</td>\n",
       "      <td>3397</td>\n",
       "      <td>10179.0</td>\n",
       "      <td>33.0</td>\n",
       "    </tr>\n",
       "    <tr>\n",
       "      <th>8</th>\n",
       "      <td>Geography</td>\n",
       "      <td>Pending</td>\n",
       "      <td>1647</td>\n",
       "      <td>10179.0</td>\n",
       "      <td>16.0</td>\n",
       "    </tr>\n",
       "    <tr>\n",
       "      <th>9</th>\n",
       "      <td>History</td>\n",
       "      <td>Done</td>\n",
       "      <td>5030</td>\n",
       "      <td>10110.0</td>\n",
       "      <td>50.0</td>\n",
       "    </tr>\n",
       "    <tr>\n",
       "      <th>10</th>\n",
       "      <td>History</td>\n",
       "      <td>Not Done</td>\n",
       "      <td>3397</td>\n",
       "      <td>10110.0</td>\n",
       "      <td>34.0</td>\n",
       "    </tr>\n",
       "    <tr>\n",
       "      <th>11</th>\n",
       "      <td>History</td>\n",
       "      <td>Pending</td>\n",
       "      <td>1683</td>\n",
       "      <td>10110.0</td>\n",
       "      <td>17.0</td>\n",
       "    </tr>\n",
       "    <tr>\n",
       "      <th>12</th>\n",
       "      <td>Math</td>\n",
       "      <td>Done</td>\n",
       "      <td>5066</td>\n",
       "      <td>10064.0</td>\n",
       "      <td>50.0</td>\n",
       "    </tr>\n",
       "    <tr>\n",
       "      <th>13</th>\n",
       "      <td>Math</td>\n",
       "      <td>Not Done</td>\n",
       "      <td>3362</td>\n",
       "      <td>10064.0</td>\n",
       "      <td>33.0</td>\n",
       "    </tr>\n",
       "    <tr>\n",
       "      <th>14</th>\n",
       "      <td>Math</td>\n",
       "      <td>Pending</td>\n",
       "      <td>1636</td>\n",
       "      <td>10064.0</td>\n",
       "      <td>16.0</td>\n",
       "    </tr>\n",
       "    <tr>\n",
       "      <th>15</th>\n",
       "      <td>Science</td>\n",
       "      <td>Done</td>\n",
       "      <td>5006</td>\n",
       "      <td>10112.0</td>\n",
       "      <td>50.0</td>\n",
       "    </tr>\n",
       "    <tr>\n",
       "      <th>16</th>\n",
       "      <td>Science</td>\n",
       "      <td>Not Done</td>\n",
       "      <td>3432</td>\n",
       "      <td>10112.0</td>\n",
       "      <td>34.0</td>\n",
       "    </tr>\n",
       "    <tr>\n",
       "      <th>17</th>\n",
       "      <td>Science</td>\n",
       "      <td>Pending</td>\n",
       "      <td>1674</td>\n",
       "      <td>10112.0</td>\n",
       "      <td>17.0</td>\n",
       "    </tr>\n",
       "  </tbody>\n",
       "</table>\n",
       "</div>"
      ],
      "text/plain": [
       "      subject    status  count  total_homeworks  percentage\n",
       "0      Arabic      Done   5044          10106.0        50.0\n",
       "1      Arabic  Not Done   3367          10106.0        33.0\n",
       "2      Arabic   Pending   1695          10106.0        17.0\n",
       "3     English      Done   5100          10209.0        50.0\n",
       "4     English  Not Done   3430          10209.0        34.0\n",
       "5     English   Pending   1679          10209.0        16.0\n",
       "6   Geography      Done   5135          10179.0        50.0\n",
       "7   Geography  Not Done   3397          10179.0        33.0\n",
       "8   Geography   Pending   1647          10179.0        16.0\n",
       "9     History      Done   5030          10110.0        50.0\n",
       "10    History  Not Done   3397          10110.0        34.0\n",
       "11    History   Pending   1683          10110.0        17.0\n",
       "12       Math      Done   5066          10064.0        50.0\n",
       "13       Math  Not Done   3362          10064.0        33.0\n",
       "14       Math   Pending   1636          10064.0        16.0\n",
       "15    Science      Done   5006          10112.0        50.0\n",
       "16    Science  Not Done   3432          10112.0        34.0\n",
       "17    Science   Pending   1674          10112.0        17.0"
      ]
     },
     "execution_count": 89,
     "metadata": {},
     "output_type": "execute_result"
    }
   ],
   "source": [
    "query = \"\"\"\n",
    "SELECT \n",
    "    subject,\n",
    "    status,\n",
    "    COUNT(status) as count,\n",
    "    SUM(COUNT(status)) OVER (PARTITION BY subject) as total_homeworks,\n",
    "    ROUND(COUNT(status) / SUM(COUNT(status)) OVER (PARTITION BY subject), 2) * 100 as percentage\n",
    "FROM homework_cleaned\n",
    "GROUP BY subject, status\n",
    "ORDER BY subject, status\n",
    "\"\"\"\n",
    "\n",
    "pd.read_sql(query, engine)"
   ]
  },
  {
   "cell_type": "markdown",
   "id": "e6627d7c",
   "metadata": {},
   "source": [
    "Homework completion rates are almost the same between the subjects."
   ]
  },
  {
   "cell_type": "markdown",
   "id": "41aab9dd",
   "metadata": {},
   "source": [
    "What is the average homework grade per subject?"
   ]
  },
  {
   "cell_type": "code",
   "execution_count": 90,
   "id": "31a23e0c",
   "metadata": {},
   "outputs": [
    {
     "data": {
      "text/html": [
       "<div>\n",
       "<style scoped>\n",
       "    .dataframe tbody tr th:only-of-type {\n",
       "        vertical-align: middle;\n",
       "    }\n",
       "\n",
       "    .dataframe tbody tr th {\n",
       "        vertical-align: top;\n",
       "    }\n",
       "\n",
       "    .dataframe thead th {\n",
       "        text-align: right;\n",
       "    }\n",
       "</style>\n",
       "<table border=\"1\" class=\"dataframe\">\n",
       "  <thead>\n",
       "    <tr style=\"text-align: right;\">\n",
       "      <th></th>\n",
       "      <th>subject</th>\n",
       "      <th>avg_GPA</th>\n",
       "    </tr>\n",
       "  </thead>\n",
       "  <tbody>\n",
       "    <tr>\n",
       "      <th>0</th>\n",
       "      <td>Science</td>\n",
       "      <td>2.35</td>\n",
       "    </tr>\n",
       "    <tr>\n",
       "      <th>1</th>\n",
       "      <td>History</td>\n",
       "      <td>2.34</td>\n",
       "    </tr>\n",
       "    <tr>\n",
       "      <th>2</th>\n",
       "      <td>Arabic</td>\n",
       "      <td>2.33</td>\n",
       "    </tr>\n",
       "    <tr>\n",
       "      <th>3</th>\n",
       "      <td>Geography</td>\n",
       "      <td>2.34</td>\n",
       "    </tr>\n",
       "    <tr>\n",
       "      <th>4</th>\n",
       "      <td>Math</td>\n",
       "      <td>2.33</td>\n",
       "    </tr>\n",
       "    <tr>\n",
       "      <th>5</th>\n",
       "      <td>English</td>\n",
       "      <td>2.35</td>\n",
       "    </tr>\n",
       "  </tbody>\n",
       "</table>\n",
       "</div>"
      ],
      "text/plain": [
       "     subject  avg_GPA\n",
       "0    Science     2.35\n",
       "1    History     2.34\n",
       "2     Arabic     2.33\n",
       "3  Geography     2.34\n",
       "4       Math     2.33\n",
       "5    English     2.35"
      ]
     },
     "execution_count": 90,
     "metadata": {},
     "output_type": "execute_result"
    }
   ],
   "source": [
    "query = \"\"\"\n",
    "SELECT \n",
    "    subject, \n",
    "    ROUND(AVG(GPA_grade), 2) as avg_GPA\n",
    "FROM homework_cleaned\n",
    "GROUP BY subject\n",
    "\"\"\"\n",
    "\n",
    "pd.read_sql(query, engine)"
   ]
  },
  {
   "cell_type": "markdown",
   "id": "a6a026ea",
   "metadata": {},
   "source": [
    "How often do guardians sign homework assignments?"
   ]
  },
  {
   "cell_type": "code",
   "execution_count": 91,
   "id": "0fbd7694",
   "metadata": {},
   "outputs": [
    {
     "data": {
      "text/html": [
       "<div>\n",
       "<style scoped>\n",
       "    .dataframe tbody tr th:only-of-type {\n",
       "        vertical-align: middle;\n",
       "    }\n",
       "\n",
       "    .dataframe tbody tr th {\n",
       "        vertical-align: top;\n",
       "    }\n",
       "\n",
       "    .dataframe thead th {\n",
       "        text-align: right;\n",
       "    }\n",
       "</style>\n",
       "<table border=\"1\" class=\"dataframe\">\n",
       "  <thead>\n",
       "    <tr style=\"text-align: right;\">\n",
       "      <th></th>\n",
       "      <th>signature_status</th>\n",
       "      <th>count</th>\n",
       "      <th>full</th>\n",
       "      <th>percentage</th>\n",
       "    </tr>\n",
       "  </thead>\n",
       "  <tbody>\n",
       "    <tr>\n",
       "      <th>0</th>\n",
       "      <td>Signed</td>\n",
       "      <td>20348</td>\n",
       "      <td>60780.0</td>\n",
       "      <td>0.3348</td>\n",
       "    </tr>\n",
       "    <tr>\n",
       "      <th>1</th>\n",
       "      <td>Not Signed</td>\n",
       "      <td>20372</td>\n",
       "      <td>60780.0</td>\n",
       "      <td>0.3352</td>\n",
       "    </tr>\n",
       "    <tr>\n",
       "      <th>2</th>\n",
       "      <td>NULL</td>\n",
       "      <td>20060</td>\n",
       "      <td>60780.0</td>\n",
       "      <td>0.3300</td>\n",
       "    </tr>\n",
       "  </tbody>\n",
       "</table>\n",
       "</div>"
      ],
      "text/plain": [
       "  signature_status  count     full  percentage\n",
       "0           Signed  20348  60780.0      0.3348\n",
       "1       Not Signed  20372  60780.0      0.3352\n",
       "2             NULL  20060  60780.0      0.3300"
      ]
     },
     "execution_count": 91,
     "metadata": {},
     "output_type": "execute_result"
    }
   ],
   "source": [
    "query = \"\"\"\n",
    "SELECT\n",
    "    CASE\n",
    "        WHEN guardian_signature = 1 THEN 'Signed'\n",
    "        WHEN guardian_signature = 0 THEN 'Not Signed'\n",
    "        WHEN guardian_signature IS NULL THEN 'NULL'\n",
    "    END AS signature_status,\n",
    "    COUNT(*) AS count,\n",
    "    SUM(COUNT(*)) OVER () as full,\n",
    "    COUNT(*)/SUM(COUNT(*)) OVER () as percentage\n",
    "FROM homework_cleaned\n",
    "GROUP BY\n",
    "    CASE\n",
    "        WHEN guardian_signature = 1 THEN 'Signed'\n",
    "        WHEN guardian_signature = 0 THEN 'Not Signed'\n",
    "        WHEN guardian_signature IS NULL THEN 'NULL'\n",
    "    END;\n",
    "\"\"\"\n",
    "\n",
    "pd.read_sql(query, engine)"
   ]
  },
  {
   "cell_type": "markdown",
   "id": "b8f4024d",
   "metadata": {},
   "source": [
    "Do students with guardian signatures have higher homework grades?"
   ]
  },
  {
   "cell_type": "code",
   "execution_count": 92,
   "id": "3fe2545a",
   "metadata": {},
   "outputs": [
    {
     "data": {
      "text/html": [
       "<div>\n",
       "<style scoped>\n",
       "    .dataframe tbody tr th:only-of-type {\n",
       "        vertical-align: middle;\n",
       "    }\n",
       "\n",
       "    .dataframe tbody tr th {\n",
       "        vertical-align: top;\n",
       "    }\n",
       "\n",
       "    .dataframe thead th {\n",
       "        text-align: right;\n",
       "    }\n",
       "</style>\n",
       "<table border=\"1\" class=\"dataframe\">\n",
       "  <thead>\n",
       "    <tr style=\"text-align: right;\">\n",
       "      <th></th>\n",
       "      <th>signature_status</th>\n",
       "      <th>avg_GPA</th>\n",
       "    </tr>\n",
       "  </thead>\n",
       "  <tbody>\n",
       "    <tr>\n",
       "      <th>0</th>\n",
       "      <td>Signed</td>\n",
       "      <td>2.34</td>\n",
       "    </tr>\n",
       "    <tr>\n",
       "      <th>1</th>\n",
       "      <td>Not Signed</td>\n",
       "      <td>2.35</td>\n",
       "    </tr>\n",
       "    <tr>\n",
       "      <th>2</th>\n",
       "      <td>NULL</td>\n",
       "      <td>2.34</td>\n",
       "    </tr>\n",
       "  </tbody>\n",
       "</table>\n",
       "</div>"
      ],
      "text/plain": [
       "  signature_status  avg_GPA\n",
       "0           Signed     2.34\n",
       "1       Not Signed     2.35\n",
       "2             NULL     2.34"
      ]
     },
     "execution_count": 92,
     "metadata": {},
     "output_type": "execute_result"
    }
   ],
   "source": [
    "query = \"\"\"\n",
    "SELECT\n",
    "    CASE\n",
    "        WHEN guardian_signature = 1 THEN 'Signed'\n",
    "        WHEN guardian_signature = 0 THEN 'Not Signed'\n",
    "        WHEN guardian_signature IS NULL THEN 'NULL'\n",
    "    END AS signature_status,\n",
    "    ROUND(AVG(GPA_grade), 2) avg_GPA\n",
    "FROM homework_cleaned\n",
    "GROUP BY\n",
    "    CASE\n",
    "        WHEN guardian_signature = 1 THEN 'Signed'\n",
    "        WHEN guardian_signature = 0 THEN 'Not Signed'\n",
    "        WHEN guardian_signature IS NULL THEN 'NULL'\n",
    "    END;\n",
    "\"\"\"\n",
    "\n",
    "pd.read_sql(query, engine)"
   ]
  },
  {
   "cell_type": "markdown",
   "id": "1e9fa1e4",
   "metadata": {},
   "source": [
    "Which grade level has the lowest guardian signature participation?"
   ]
  },
  {
   "cell_type": "markdown",
   "id": "1a327e75",
   "metadata": {},
   "source": [
    "We exclude NULL values from the calculation so that the participation rate reflects only records where a signature status (0 or 1) is actually known."
   ]
  },
  {
   "cell_type": "code",
   "execution_count": 93,
   "id": "ce90b94b",
   "metadata": {},
   "outputs": [
    {
     "data": {
      "text/html": [
       "<div>\n",
       "<style scoped>\n",
       "    .dataframe tbody tr th:only-of-type {\n",
       "        vertical-align: middle;\n",
       "    }\n",
       "\n",
       "    .dataframe tbody tr th {\n",
       "        vertical-align: top;\n",
       "    }\n",
       "\n",
       "    .dataframe thead th {\n",
       "        text-align: right;\n",
       "    }\n",
       "</style>\n",
       "<table border=\"1\" class=\"dataframe\">\n",
       "  <thead>\n",
       "    <tr style=\"text-align: right;\">\n",
       "      <th></th>\n",
       "      <th>grade_level</th>\n",
       "      <th>with_signature_record</th>\n",
       "      <th>signed_count</th>\n",
       "      <th>signature_rate</th>\n",
       "    </tr>\n",
       "  </thead>\n",
       "  <tbody>\n",
       "    <tr>\n",
       "      <th>0</th>\n",
       "      <td>1</td>\n",
       "      <td>8063</td>\n",
       "      <td>4002.0</td>\n",
       "      <td>50.0</td>\n",
       "    </tr>\n",
       "    <tr>\n",
       "      <th>1</th>\n",
       "      <td>2</td>\n",
       "      <td>7963</td>\n",
       "      <td>3992.0</td>\n",
       "      <td>50.0</td>\n",
       "    </tr>\n",
       "    <tr>\n",
       "      <th>2</th>\n",
       "      <td>3</td>\n",
       "      <td>8119</td>\n",
       "      <td>4055.0</td>\n",
       "      <td>50.0</td>\n",
       "    </tr>\n",
       "    <tr>\n",
       "      <th>3</th>\n",
       "      <td>4</td>\n",
       "      <td>8269</td>\n",
       "      <td>4114.0</td>\n",
       "      <td>50.0</td>\n",
       "    </tr>\n",
       "    <tr>\n",
       "      <th>4</th>\n",
       "      <td>5</td>\n",
       "      <td>8306</td>\n",
       "      <td>4185.0</td>\n",
       "      <td>50.0</td>\n",
       "    </tr>\n",
       "  </tbody>\n",
       "</table>\n",
       "</div>"
      ],
      "text/plain": [
       "   grade_level  with_signature_record  signed_count  signature_rate\n",
       "0            1                   8063        4002.0            50.0\n",
       "1            2                   7963        3992.0            50.0\n",
       "2            3                   8119        4055.0            50.0\n",
       "3            4                   8269        4114.0            50.0\n",
       "4            5                   8306        4185.0            50.0"
      ]
     },
     "execution_count": 93,
     "metadata": {},
     "output_type": "execute_result"
    }
   ],
   "source": [
    "query = \"\"\"\n",
    "SELECT\n",
    "    sc.grade_level,\n",
    "    COUNT(guardian_signature) AS with_signature_record,\n",
    "    SUM(guardian_signature) AS signed_count,\n",
    "    ROUND(SUM(guardian_signature)/COUNT(guardian_signature), 2) * 100 AS signature_rate\n",
    "FROM homework_cleaned hc\n",
    "JOIN students_cleaned sc ON sc.student_id = hc.student_id\n",
    "GROUP BY grade_level\n",
    "ORDER BY grade_level\n",
    "\"\"\"\n",
    "\n",
    "pd.read_sql(query, engine)"
   ]
  },
  {
   "cell_type": "markdown",
   "id": "4bb2ac61",
   "metadata": {},
   "source": [
    "What percentage of assignments marked “Not Done” still have guardian signatures?"
   ]
  },
  {
   "cell_type": "code",
   "execution_count": 94,
   "id": "487479b2",
   "metadata": {},
   "outputs": [
    {
     "data": {
      "text/html": [
       "<div>\n",
       "<style scoped>\n",
       "    .dataframe tbody tr th:only-of-type {\n",
       "        vertical-align: middle;\n",
       "    }\n",
       "\n",
       "    .dataframe tbody tr th {\n",
       "        vertical-align: top;\n",
       "    }\n",
       "\n",
       "    .dataframe thead th {\n",
       "        text-align: right;\n",
       "    }\n",
       "</style>\n",
       "<table border=\"1\" class=\"dataframe\">\n",
       "  <thead>\n",
       "    <tr style=\"text-align: right;\">\n",
       "      <th></th>\n",
       "      <th>status</th>\n",
       "      <th>count</th>\n",
       "      <th>full</th>\n",
       "      <th>percentage</th>\n",
       "    </tr>\n",
       "  </thead>\n",
       "  <tbody>\n",
       "    <tr>\n",
       "      <th>0</th>\n",
       "      <td>Not Done</td>\n",
       "      <td>6878</td>\n",
       "      <td>20348.0</td>\n",
       "      <td>34.0</td>\n",
       "    </tr>\n",
       "    <tr>\n",
       "      <th>1</th>\n",
       "      <td>Done</td>\n",
       "      <td>10217</td>\n",
       "      <td>20348.0</td>\n",
       "      <td>50.0</td>\n",
       "    </tr>\n",
       "    <tr>\n",
       "      <th>2</th>\n",
       "      <td>Pending</td>\n",
       "      <td>3253</td>\n",
       "      <td>20348.0</td>\n",
       "      <td>16.0</td>\n",
       "    </tr>\n",
       "  </tbody>\n",
       "</table>\n",
       "</div>"
      ],
      "text/plain": [
       "     status  count     full  percentage\n",
       "0  Not Done   6878  20348.0        34.0\n",
       "1      Done  10217  20348.0        50.0\n",
       "2   Pending   3253  20348.0        16.0"
      ]
     },
     "execution_count": 94,
     "metadata": {},
     "output_type": "execute_result"
    }
   ],
   "source": [
    "query = \"\"\"\n",
    "SELECT\n",
    "    status,\n",
    "    COUNT(status) as count,\n",
    "    SUM(COUNT(status)) OVER () as full,\n",
    "    ROUND(COUNT(status)/SUM(COUNT(status)) OVER (), 2) * 100 as percentage\n",
    "FROM homework_cleaned\n",
    "WHERE guardian_signature = 1\n",
    "GROUP BY status\n",
    "\"\"\"\n",
    "\n",
    "pd.read_sql(query, engine)"
   ]
  },
  {
   "cell_type": "markdown",
   "id": "c7e4be4f",
   "metadata": {},
   "source": [
    "34% of signed homework was not done."
   ]
  },
  {
   "cell_type": "markdown",
   "id": "a69023ee",
   "metadata": {},
   "source": [
    "## **Performance Analysis by Subject and Grade**"
   ]
  },
  {
   "cell_type": "markdown",
   "id": "408d0a3f",
   "metadata": {},
   "source": [
    "What is the average exam score per subject?"
   ]
  },
  {
   "cell_type": "code",
   "execution_count": 95,
   "id": "527af701",
   "metadata": {},
   "outputs": [
    {
     "data": {
      "text/html": [
       "<div>\n",
       "<style scoped>\n",
       "    .dataframe tbody tr th:only-of-type {\n",
       "        vertical-align: middle;\n",
       "    }\n",
       "\n",
       "    .dataframe tbody tr th {\n",
       "        vertical-align: top;\n",
       "    }\n",
       "\n",
       "    .dataframe thead th {\n",
       "        text-align: right;\n",
       "    }\n",
       "</style>\n",
       "<table border=\"1\" class=\"dataframe\">\n",
       "  <thead>\n",
       "    <tr style=\"text-align: right;\">\n",
       "      <th></th>\n",
       "      <th>subject</th>\n",
       "      <th>avg_score</th>\n",
       "    </tr>\n",
       "  </thead>\n",
       "  <tbody>\n",
       "    <tr>\n",
       "      <th>0</th>\n",
       "      <td>Arabic</td>\n",
       "      <td>69.92</td>\n",
       "    </tr>\n",
       "    <tr>\n",
       "      <th>1</th>\n",
       "      <td>Math</td>\n",
       "      <td>69.94</td>\n",
       "    </tr>\n",
       "    <tr>\n",
       "      <th>2</th>\n",
       "      <td>Geography</td>\n",
       "      <td>69.95</td>\n",
       "    </tr>\n",
       "    <tr>\n",
       "      <th>3</th>\n",
       "      <td>History</td>\n",
       "      <td>69.95</td>\n",
       "    </tr>\n",
       "    <tr>\n",
       "      <th>4</th>\n",
       "      <td>English</td>\n",
       "      <td>70.05</td>\n",
       "    </tr>\n",
       "    <tr>\n",
       "      <th>5</th>\n",
       "      <td>Science</td>\n",
       "      <td>70.17</td>\n",
       "    </tr>\n",
       "  </tbody>\n",
       "</table>\n",
       "</div>"
      ],
      "text/plain": [
       "     subject  avg_score\n",
       "0     Arabic      69.92\n",
       "1       Math      69.94\n",
       "2  Geography      69.95\n",
       "3    History      69.95\n",
       "4    English      70.05\n",
       "5    Science      70.17"
      ]
     },
     "execution_count": 95,
     "metadata": {},
     "output_type": "execute_result"
    }
   ],
   "source": [
    "query = \"\"\"\n",
    "SELECT\n",
    "    subject,\n",
    "    ROUND(AVG(exam_score), 2) as avg_score\n",
    "FROM performance_cleaned\n",
    "GROUP BY subject\n",
    "ORDER BY AVG(exam_score)\n",
    "\"\"\"\n",
    "\n",
    "pd.read_sql(query, engine)"
   ]
  },
  {
   "cell_type": "markdown",
   "id": "6a763342",
   "metadata": {},
   "source": [
    "What is the average exam score per grade level?"
   ]
  },
  {
   "cell_type": "code",
   "execution_count": 96,
   "id": "fac2f849",
   "metadata": {},
   "outputs": [
    {
     "data": {
      "text/html": [
       "<div>\n",
       "<style scoped>\n",
       "    .dataframe tbody tr th:only-of-type {\n",
       "        vertical-align: middle;\n",
       "    }\n",
       "\n",
       "    .dataframe tbody tr th {\n",
       "        vertical-align: top;\n",
       "    }\n",
       "\n",
       "    .dataframe thead th {\n",
       "        text-align: right;\n",
       "    }\n",
       "</style>\n",
       "<table border=\"1\" class=\"dataframe\">\n",
       "  <thead>\n",
       "    <tr style=\"text-align: right;\">\n",
       "      <th></th>\n",
       "      <th>grade_level</th>\n",
       "      <th>avg_score</th>\n",
       "    </tr>\n",
       "  </thead>\n",
       "  <tbody>\n",
       "    <tr>\n",
       "      <th>0</th>\n",
       "      <td>1</td>\n",
       "      <td>70.02</td>\n",
       "    </tr>\n",
       "    <tr>\n",
       "      <th>1</th>\n",
       "      <td>2</td>\n",
       "      <td>69.87</td>\n",
       "    </tr>\n",
       "    <tr>\n",
       "      <th>2</th>\n",
       "      <td>3</td>\n",
       "      <td>70.28</td>\n",
       "    </tr>\n",
       "    <tr>\n",
       "      <th>3</th>\n",
       "      <td>4</td>\n",
       "      <td>69.85</td>\n",
       "    </tr>\n",
       "    <tr>\n",
       "      <th>4</th>\n",
       "      <td>5</td>\n",
       "      <td>69.96</td>\n",
       "    </tr>\n",
       "  </tbody>\n",
       "</table>\n",
       "</div>"
      ],
      "text/plain": [
       "   grade_level  avg_score\n",
       "0            1      70.02\n",
       "1            2      69.87\n",
       "2            3      70.28\n",
       "3            4      69.85\n",
       "4            5      69.96"
      ]
     },
     "execution_count": 96,
     "metadata": {},
     "output_type": "execute_result"
    }
   ],
   "source": [
    "query = \"\"\"\n",
    "SELECT\n",
    "    sc.grade_level,\n",
    "    ROUND(AVG(pc.exam_score), 2) as avg_score\n",
    "FROM performance_cleaned pc\n",
    "LEFT JOIN students_cleaned sc ON sc.student_id = pc.student_id\n",
    "GROUP BY sc.grade_level\n",
    "ORDER BY grade_level\n",
    "\"\"\"\n",
    "\n",
    "pd.read_sql(query, engine)"
   ]
  },
  {
   "cell_type": "markdown",
   "id": "e47b4628",
   "metadata": {},
   "source": [
    "How many students have an average exam score of 100?"
   ]
  },
  {
   "cell_type": "code",
   "execution_count": 97,
   "id": "40a22089",
   "metadata": {},
   "outputs": [
    {
     "data": {
      "text/html": [
       "<div>\n",
       "<style scoped>\n",
       "    .dataframe tbody tr th:only-of-type {\n",
       "        vertical-align: middle;\n",
       "    }\n",
       "\n",
       "    .dataframe tbody tr th {\n",
       "        vertical-align: top;\n",
       "    }\n",
       "\n",
       "    .dataframe thead th {\n",
       "        text-align: right;\n",
       "    }\n",
       "</style>\n",
       "<table border=\"1\" class=\"dataframe\">\n",
       "  <thead>\n",
       "    <tr style=\"text-align: right;\">\n",
       "      <th></th>\n",
       "      <th>student_id</th>\n",
       "      <th>full_name</th>\n",
       "    </tr>\n",
       "  </thead>\n",
       "  <tbody>\n",
       "    <tr>\n",
       "      <th>0</th>\n",
       "      <td>S03724</td>\n",
       "      <td>Vincent Peterson</td>\n",
       "    </tr>\n",
       "    <tr>\n",
       "      <th>1</th>\n",
       "      <td>S03677</td>\n",
       "      <td>Michael Guerrero</td>\n",
       "    </tr>\n",
       "    <tr>\n",
       "      <th>2</th>\n",
       "      <td>S00131</td>\n",
       "      <td>Gregory Schroeder</td>\n",
       "    </tr>\n",
       "    <tr>\n",
       "      <th>3</th>\n",
       "      <td>S02424</td>\n",
       "      <td>Jennifer Melendez</td>\n",
       "    </tr>\n",
       "    <tr>\n",
       "      <th>4</th>\n",
       "      <td>S00485</td>\n",
       "      <td>Lisa Villarreal</td>\n",
       "    </tr>\n",
       "    <tr>\n",
       "      <th>5</th>\n",
       "      <td>S03312</td>\n",
       "      <td>Devin Cameron</td>\n",
       "    </tr>\n",
       "    <tr>\n",
       "      <th>6</th>\n",
       "      <td>S00434</td>\n",
       "      <td>Leslie Moody</td>\n",
       "    </tr>\n",
       "    <tr>\n",
       "      <th>7</th>\n",
       "      <td>S00713</td>\n",
       "      <td>Cameron Lee</td>\n",
       "    </tr>\n",
       "    <tr>\n",
       "      <th>8</th>\n",
       "      <td>S03576</td>\n",
       "      <td>Belinda Ruiz</td>\n",
       "    </tr>\n",
       "    <tr>\n",
       "      <th>9</th>\n",
       "      <td>S03357</td>\n",
       "      <td>Darin Lewis</td>\n",
       "    </tr>\n",
       "    <tr>\n",
       "      <th>10</th>\n",
       "      <td>S01785</td>\n",
       "      <td>Erin Richard</td>\n",
       "    </tr>\n",
       "    <tr>\n",
       "      <th>11</th>\n",
       "      <td>S01196</td>\n",
       "      <td>Margaret Robinson</td>\n",
       "    </tr>\n",
       "    <tr>\n",
       "      <th>12</th>\n",
       "      <td>S02381</td>\n",
       "      <td>Todd Castaneda</td>\n",
       "    </tr>\n",
       "    <tr>\n",
       "      <th>13</th>\n",
       "      <td>S02344</td>\n",
       "      <td>Elizabeth Stephenson</td>\n",
       "    </tr>\n",
       "    <tr>\n",
       "      <th>14</th>\n",
       "      <td>S02169</td>\n",
       "      <td>Benjamin Smith</td>\n",
       "    </tr>\n",
       "    <tr>\n",
       "      <th>15</th>\n",
       "      <td>S03798</td>\n",
       "      <td>Crystal Nguyen</td>\n",
       "    </tr>\n",
       "    <tr>\n",
       "      <th>16</th>\n",
       "      <td>S12060</td>\n",
       "      <td>Duane Sullivan</td>\n",
       "    </tr>\n",
       "    <tr>\n",
       "      <th>17</th>\n",
       "      <td>S08226</td>\n",
       "      <td>Chris Carter</td>\n",
       "    </tr>\n",
       "    <tr>\n",
       "      <th>18</th>\n",
       "      <td>S08468</td>\n",
       "      <td>Karen Reyes</td>\n",
       "    </tr>\n",
       "    <tr>\n",
       "      <th>19</th>\n",
       "      <td>S04312</td>\n",
       "      <td>Erica Mitchell</td>\n",
       "    </tr>\n",
       "    <tr>\n",
       "      <th>20</th>\n",
       "      <td>S09178</td>\n",
       "      <td>Elijah Moran</td>\n",
       "    </tr>\n",
       "    <tr>\n",
       "      <th>21</th>\n",
       "      <td>S11749</td>\n",
       "      <td>Laura Mitchell</td>\n",
       "    </tr>\n",
       "    <tr>\n",
       "      <th>22</th>\n",
       "      <td>S11544</td>\n",
       "      <td>Jason Fitzpatrick</td>\n",
       "    </tr>\n",
       "    <tr>\n",
       "      <th>23</th>\n",
       "      <td>S07672</td>\n",
       "      <td>Brian Yang</td>\n",
       "    </tr>\n",
       "    <tr>\n",
       "      <th>24</th>\n",
       "      <td>S09457</td>\n",
       "      <td>Stephanie Hicks</td>\n",
       "    </tr>\n",
       "    <tr>\n",
       "      <th>25</th>\n",
       "      <td>S08946</td>\n",
       "      <td>Alicia Hoover</td>\n",
       "    </tr>\n",
       "    <tr>\n",
       "      <th>26</th>\n",
       "      <td>S06582</td>\n",
       "      <td>Nicole Anthony</td>\n",
       "    </tr>\n",
       "    <tr>\n",
       "      <th>27</th>\n",
       "      <td>S04310</td>\n",
       "      <td>Dennis Lawrence</td>\n",
       "    </tr>\n",
       "    <tr>\n",
       "      <th>28</th>\n",
       "      <td>S07172</td>\n",
       "      <td>Ryan Caldwell</td>\n",
       "    </tr>\n",
       "    <tr>\n",
       "      <th>29</th>\n",
       "      <td>S08418</td>\n",
       "      <td>Cheryl Barnes</td>\n",
       "    </tr>\n",
       "    <tr>\n",
       "      <th>30</th>\n",
       "      <td>S09284</td>\n",
       "      <td>Stacey Mcdonald</td>\n",
       "    </tr>\n",
       "    <tr>\n",
       "      <th>31</th>\n",
       "      <td>S09598</td>\n",
       "      <td>Alejandro Dawson</td>\n",
       "    </tr>\n",
       "    <tr>\n",
       "      <th>32</th>\n",
       "      <td>S09948</td>\n",
       "      <td>Terry Avila</td>\n",
       "    </tr>\n",
       "    <tr>\n",
       "      <th>33</th>\n",
       "      <td>S06788</td>\n",
       "      <td>Clarence Daniels</td>\n",
       "    </tr>\n",
       "    <tr>\n",
       "      <th>34</th>\n",
       "      <td>S05877</td>\n",
       "      <td>Abigail Bowen</td>\n",
       "    </tr>\n",
       "    <tr>\n",
       "      <th>35</th>\n",
       "      <td>S09026</td>\n",
       "      <td>Steve Reyes Dds</td>\n",
       "    </tr>\n",
       "    <tr>\n",
       "      <th>36</th>\n",
       "      <td>S04837</td>\n",
       "      <td>Traci Lara</td>\n",
       "    </tr>\n",
       "    <tr>\n",
       "      <th>37</th>\n",
       "      <td>S07791</td>\n",
       "      <td>Julian Moore</td>\n",
       "    </tr>\n",
       "    <tr>\n",
       "      <th>38</th>\n",
       "      <td>S05950</td>\n",
       "      <td>Melinda Jones</td>\n",
       "    </tr>\n",
       "    <tr>\n",
       "      <th>39</th>\n",
       "      <td>S06781</td>\n",
       "      <td>Valerie Mcdonald</td>\n",
       "    </tr>\n",
       "    <tr>\n",
       "      <th>40</th>\n",
       "      <td>S11205</td>\n",
       "      <td>James Delgado</td>\n",
       "    </tr>\n",
       "    <tr>\n",
       "      <th>41</th>\n",
       "      <td>S06988</td>\n",
       "      <td>Andrew Evans</td>\n",
       "    </tr>\n",
       "    <tr>\n",
       "      <th>42</th>\n",
       "      <td>S07902</td>\n",
       "      <td>Sean Davis</td>\n",
       "    </tr>\n",
       "    <tr>\n",
       "      <th>43</th>\n",
       "      <td>S08607</td>\n",
       "      <td>Renee Archer</td>\n",
       "    </tr>\n",
       "    <tr>\n",
       "      <th>44</th>\n",
       "      <td>S04621</td>\n",
       "      <td>Sean Russo</td>\n",
       "    </tr>\n",
       "    <tr>\n",
       "      <th>45</th>\n",
       "      <td>S04192</td>\n",
       "      <td>Kristen Potter</td>\n",
       "    </tr>\n",
       "    <tr>\n",
       "      <th>46</th>\n",
       "      <td>S09138</td>\n",
       "      <td>Dawn Calderon</td>\n",
       "    </tr>\n",
       "    <tr>\n",
       "      <th>47</th>\n",
       "      <td>S08768</td>\n",
       "      <td>Joanna Jones</td>\n",
       "    </tr>\n",
       "    <tr>\n",
       "      <th>48</th>\n",
       "      <td>S12029</td>\n",
       "      <td>Amanda Perez</td>\n",
       "    </tr>\n",
       "  </tbody>\n",
       "</table>\n",
       "</div>"
      ],
      "text/plain": [
       "   student_id             full_name\n",
       "0      S03724      Vincent Peterson\n",
       "1      S03677      Michael Guerrero\n",
       "2      S00131     Gregory Schroeder\n",
       "3      S02424     Jennifer Melendez\n",
       "4      S00485       Lisa Villarreal\n",
       "5      S03312         Devin Cameron\n",
       "6      S00434          Leslie Moody\n",
       "7      S00713           Cameron Lee\n",
       "8      S03576          Belinda Ruiz\n",
       "9      S03357           Darin Lewis\n",
       "10     S01785          Erin Richard\n",
       "11     S01196     Margaret Robinson\n",
       "12     S02381        Todd Castaneda\n",
       "13     S02344  Elizabeth Stephenson\n",
       "14     S02169        Benjamin Smith\n",
       "15     S03798        Crystal Nguyen\n",
       "16     S12060        Duane Sullivan\n",
       "17     S08226          Chris Carter\n",
       "18     S08468           Karen Reyes\n",
       "19     S04312        Erica Mitchell\n",
       "20     S09178          Elijah Moran\n",
       "21     S11749        Laura Mitchell\n",
       "22     S11544     Jason Fitzpatrick\n",
       "23     S07672            Brian Yang\n",
       "24     S09457       Stephanie Hicks\n",
       "25     S08946         Alicia Hoover\n",
       "26     S06582        Nicole Anthony\n",
       "27     S04310       Dennis Lawrence\n",
       "28     S07172         Ryan Caldwell\n",
       "29     S08418         Cheryl Barnes\n",
       "30     S09284       Stacey Mcdonald\n",
       "31     S09598      Alejandro Dawson\n",
       "32     S09948           Terry Avila\n",
       "33     S06788      Clarence Daniels\n",
       "34     S05877         Abigail Bowen\n",
       "35     S09026       Steve Reyes Dds\n",
       "36     S04837            Traci Lara\n",
       "37     S07791          Julian Moore\n",
       "38     S05950         Melinda Jones\n",
       "39     S06781      Valerie Mcdonald\n",
       "40     S11205         James Delgado\n",
       "41     S06988          Andrew Evans\n",
       "42     S07902            Sean Davis\n",
       "43     S08607          Renee Archer\n",
       "44     S04621            Sean Russo\n",
       "45     S04192        Kristen Potter\n",
       "46     S09138         Dawn Calderon\n",
       "47     S08768          Joanna Jones\n",
       "48     S12029          Amanda Perez"
      ]
     },
     "execution_count": 97,
     "metadata": {},
     "output_type": "execute_result"
    }
   ],
   "source": [
    "query = \"\"\"\n",
    "WITH cte as (\n",
    "SELECT\n",
    "    student_id,\n",
    "    AVG(exam_score) as avg_score,\n",
    "    MAX(AVG(exam_score)) OVER () as max_score\n",
    "FROM performance_cleaned pc\n",
    "GROUP BY student_id\n",
    "ORDER BY AVG(exam_score) DESC\n",
    ")\n",
    "\n",
    "SELECT\n",
    "    c.student_id,\n",
    "    sc.full_name \n",
    "FROM cte c\n",
    "LEFT JOIN students_cleaned sc ON sc.student_id = c.student_id\n",
    "WHERE avg_score = max_score\n",
    "\"\"\"\n",
    "\n",
    "pd.read_sql(query, engine)"
   ]
  },
  {
   "cell_type": "markdown",
   "id": "faaa59b4",
   "metadata": {},
   "source": [
    "Do students with higher homework completion also have higher exam scores?"
   ]
  },
  {
   "cell_type": "code",
   "execution_count": 98,
   "id": "8e36fa1f",
   "metadata": {},
   "outputs": [
    {
     "data": {
      "text/plain": [
       "<Axes: xlabel='exam_score', ylabel='homework_completion'>"
      ]
     },
     "execution_count": 98,
     "metadata": {},
     "output_type": "execute_result"
    },
    {
     "data": {
      "image/png": "[encoded data removed]",
      "text/plain": [
       "<Figure size 640x480 with 1 Axes>"
      ]
     },
     "metadata": {},
     "output_type": "display_data"
    }
   ],
   "source": [
    "sns.scatterplot(data = performance, x = 'exam_score', y = 'homework_completion')"
   ]
  },
  {
   "cell_type": "code",
   "execution_count": 99,
   "id": "1b1b7cba",
   "metadata": {},
   "outputs": [
    {
     "name": "stdout",
     "output_type": "stream",
     "text": [
      "Correlation (r): 0.0002850602332506139\n",
      "p-value: 0.9640776079001575\n"
     ]
    }
   ],
   "source": [
    "res = stats.pearsonr(performance['exam_score'], performance['homework_completion'])\n",
    "print(\"Correlation (r):\", res.statistic)\n",
    "print(\"p-value:\", res.pvalue)"
   ]
  },
  {
   "cell_type": "markdown",
   "id": "96a04a91",
   "metadata": {},
   "source": [
    "There is no significant correlation between homework completion and exam scores."
   ]
  },
  {
   "cell_type": "markdown",
   "id": "e9f47c61",
   "metadata": {},
   "source": [
    "## **Integrated Insights: Attendance vs Performance**"
   ]
  },
  {
   "cell_type": "markdown",
   "id": "256cceca",
   "metadata": {},
   "source": [
    "Do students with higher attendance rates have higher exam scores?"
   ]
  },
  {
   "cell_type": "code",
   "execution_count": 100,
   "id": "5f2d89b7",
   "metadata": {},
   "outputs": [],
   "source": [
    "students_attendance_score_correlation = (students_attendance_summary[students_attendance_summary['attendance_status_updated']=='Attended Lesson']\n",
    "                                .merge(performance, on = 'student_id', how = 'right')[['percentage', 'exam_score']])"
   ]
  },
  {
   "cell_type": "code",
   "execution_count": 101,
   "id": "a6b6991c",
   "metadata": {},
   "outputs": [
    {
     "data": {
      "text/plain": [
       "<Axes: xlabel='percentage', ylabel='exam_score'>"
      ]
     },
     "execution_count": 101,
     "metadata": {},
     "output_type": "execute_result"
    },
    {
     "data": {
      "image/png": "[encoded data removed]",
      "text/plain": [
       "<Figure size 640x480 with 1 Axes>"
      ]
     },
     "metadata": {},
     "output_type": "display_data"
    }
   ],
   "source": [
    "sns.scatterplot(data = students_attendance_score_correlation, x = 'percentage', y = 'exam_score', alpha = 0.6)"
   ]
  },
  {
   "cell_type": "code",
   "execution_count": 102,
   "id": "95417bdc",
   "metadata": {},
   "outputs": [
    {
     "name": "stdout",
     "output_type": "stream",
     "text": [
      "Correlation (r): 0.009240344927464237\n",
      "p-value: 0.14430861028745878\n"
     ]
    }
   ],
   "source": [
    "res = stats.pearsonr(students_attendance_score_correlation['exam_score'], students_attendance_score_correlation['percentage'])\n",
    "print(\"Correlation (r):\", res.statistic)\n",
    "print(\"p-value:\", res.pvalue)"
   ]
  },
  {
   "cell_type": "markdown",
   "id": "8bd4c01d",
   "metadata": {},
   "source": [
    "There is no significant correlation between attendance rate and exam scores."
   ]
  },
  {
   "cell_type": "markdown",
   "id": "dab5cc04",
   "metadata": {},
   "source": [
    "At-risk students"
   ]
  },
  {
   "cell_type": "markdown",
   "id": "8f5c9104",
   "metadata": {},
   "source": [
    "| Metric                   | Threshold | Meaning             |\n",
    "| :----------------------- | :-------- | :------------------ |\n",
    "| Attendance Rate          | < 75%     | Often absent        |\n",
    "| Average Exam Score       | < 60      | Low performance     |\n",
    "| Homework Completion Rate | < 70%     | Not completing work |"
   ]
  },
  {
   "cell_type": "code",
   "execution_count": 105,
   "id": "05579f76",
   "metadata": {},
   "outputs": [
    {
     "data": {
      "text/html": [
       "<div>\n",
       "<style scoped>\n",
       "    .dataframe tbody tr th:only-of-type {\n",
       "        vertical-align: middle;\n",
       "    }\n",
       "\n",
       "    .dataframe tbody tr th {\n",
       "        vertical-align: top;\n",
       "    }\n",
       "\n",
       "    .dataframe thead th {\n",
       "        text-align: right;\n",
       "    }\n",
       "</style>\n",
       "<table border=\"1\" class=\"dataframe\">\n",
       "  <thead>\n",
       "    <tr style=\"text-align: right;\">\n",
       "      <th></th>\n",
       "      <th>student_id</th>\n",
       "      <th>full_name</th>\n",
       "      <th>attendance_rate</th>\n",
       "      <th>average_exam_score</th>\n",
       "      <th>homework_completion_rate</th>\n",
       "      <th>guardian_signature_rate</th>\n",
       "      <th>risk_level</th>\n",
       "    </tr>\n",
       "  </thead>\n",
       "  <tbody>\n",
       "    <tr>\n",
       "      <th>810</th>\n",
       "      <td>S11337</td>\n",
       "      <td>Maria Bennett</td>\n",
       "      <td>54.55</td>\n",
       "      <td>52.60</td>\n",
       "      <td>50.00</td>\n",
       "      <td>100.0</td>\n",
       "      <td>High Risk</td>\n",
       "    </tr>\n",
       "    <tr>\n",
       "      <th>3101</th>\n",
       "      <td>S09681</td>\n",
       "      <td>Garrett Fisher</td>\n",
       "      <td>58.97</td>\n",
       "      <td>62.75</td>\n",
       "      <td>50.00</td>\n",
       "      <td>50.0</td>\n",
       "      <td>Low Risk</td>\n",
       "    </tr>\n",
       "    <tr>\n",
       "      <th>481</th>\n",
       "      <td>S04512</td>\n",
       "      <td>Bryan Kelley</td>\n",
       "      <td>52.38</td>\n",
       "      <td>49.00</td>\n",
       "      <td>50.00</td>\n",
       "      <td>50.0</td>\n",
       "      <td>High Risk</td>\n",
       "    </tr>\n",
       "    <tr>\n",
       "      <th>2915</th>\n",
       "      <td>S05435</td>\n",
       "      <td>Anna Esparza</td>\n",
       "      <td>64.00</td>\n",
       "      <td>62.00</td>\n",
       "      <td>16.67</td>\n",
       "      <td>20.0</td>\n",
       "      <td>Low Risk</td>\n",
       "    </tr>\n",
       "    <tr>\n",
       "      <th>1354</th>\n",
       "      <td>S02552</td>\n",
       "      <td>Brian Taylor</td>\n",
       "      <td>67.74</td>\n",
       "      <td>57.00</td>\n",
       "      <td>25.00</td>\n",
       "      <td>0.0</td>\n",
       "      <td>High Risk</td>\n",
       "    </tr>\n",
       "  </tbody>\n",
       "</table>\n",
       "</div>"
      ],
      "text/plain": [
       "     student_id       full_name  attendance_rate  average_exam_score  \\\n",
       "810      S11337   Maria Bennett            54.55               52.60   \n",
       "3101     S09681  Garrett Fisher            58.97               62.75   \n",
       "481      S04512    Bryan Kelley            52.38               49.00   \n",
       "2915     S05435    Anna Esparza            64.00               62.00   \n",
       "1354     S02552    Brian Taylor            67.74               57.00   \n",
       "\n",
       "      homework_completion_rate  guardian_signature_rate risk_level  \n",
       "810                      50.00                    100.0  High Risk  \n",
       "3101                     50.00                     50.0   Low Risk  \n",
       "481                      50.00                     50.0  High Risk  \n",
       "2915                     16.67                     20.0   Low Risk  \n",
       "1354                     25.00                      0.0  High Risk  "
      ]
     },
     "execution_count": 105,
     "metadata": {},
     "output_type": "execute_result"
    }
   ],
   "source": [
    "query = \"\"\"\n",
    "WITH \n",
    "-- Attendance rate per student\n",
    "attendance_summary AS (\n",
    "    SELECT \n",
    "        student_id,\n",
    "        ROUND(SUM(CASE WHEN attendance_status IN ('Late','Left Early','Present') THEN 1 ELSE 0 END) * 100.0 / COUNT(*), 2) AS attendance_rate\n",
    "    FROM attendance_cleaned\n",
    "    GROUP BY student_id\n",
    "),\n",
    "\n",
    "-- Exam score average per student\n",
    "exam_summary AS (\n",
    "    SELECT \n",
    "        student_id,\n",
    "        ROUND(AVG(exam_score), 2) AS average_exam_score\n",
    "    FROM performance_cleaned\n",
    "    GROUP BY student_id\n",
    "),\n",
    "\n",
    "-- Homework completion and guardian signature rates per student\n",
    "homework_summary AS (\n",
    "    SELECT \n",
    "        student_id,\n",
    "        ROUND(\n",
    "            SUM(CASE WHEN status = 'Done' THEN 1 ELSE 0 END) * 100.0 / COUNT(*)\n",
    "        , 2) AS homework_completion_rate,\n",
    "        ROUND(AVG(guardian_signature) * 100, 2) AS guardian_signature_rate\n",
    "    FROM homework_cleaned\n",
    "    GROUP BY student_id\n",
    "),\n",
    "\n",
    "-- Combine all metrics into one summary table\n",
    "student_summary AS (\n",
    "    SELECT \n",
    "        s.student_id,\n",
    "        s.full_name,\n",
    "        a.attendance_rate,\n",
    "        e.average_exam_score,\n",
    "        h.homework_completion_rate,\n",
    "        h.guardian_signature_rate\n",
    "    FROM students_cleaned s\n",
    "    LEFT JOIN attendance_summary a ON s.student_id = a.student_id\n",
    "    LEFT JOIN exam_summary e ON s.student_id = e.student_id\n",
    "    LEFT JOIN homework_summary h ON s.student_id = h.student_id\n",
    ")\n",
    "\n",
    "-- Classify risk levels\n",
    "SELECT\n",
    "    student_id,\n",
    "    full_name,\n",
    "    attendance_rate,\n",
    "    average_exam_score,\n",
    "    homework_completion_rate,\n",
    "    guardian_signature_rate,\n",
    "    CASE\n",
    "        WHEN attendance_rate < 75 \n",
    "          AND average_exam_score < 60 \n",
    "          AND homework_completion_rate < 70 THEN 'High Risk'\n",
    "        WHEN (attendance_rate < 75 AND average_exam_score < 60)\n",
    "          OR (average_exam_score < 60 AND homework_completion_rate < 70)\n",
    "          THEN 'Moderate Risk'\n",
    "        ELSE 'Low Risk'\n",
    "    END AS risk_level\n",
    "FROM student_summary\n",
    "WHERE average_exam_score IS NOT NULL  -- keep only students with exam data\n",
    "ORDER BY \n",
    "    CASE risk_level\n",
    "        WHEN 'High Risk' THEN 1\n",
    "        WHEN 'Moderate Risk' THEN 2\n",
    "        ELSE 3\n",
    "    END,\n",
    "    average_exam_score ASC;\n",
    "\"\"\"\n",
    "\n",
    "df_summary = pd.read_sql(query, engine)\n",
    "df_summary.sample(5)"
   ]
  },
  {
   "cell_type": "code",
   "execution_count": 104,
   "id": "fb57acc9",
   "metadata": {},
   "outputs": [
    {
     "data": {
      "text/html": [
       "<div>\n",
       "<style scoped>\n",
       "    .dataframe tbody tr th:only-of-type {\n",
       "        vertical-align: middle;\n",
       "    }\n",
       "\n",
       "    .dataframe tbody tr th {\n",
       "        vertical-align: top;\n",
       "    }\n",
       "\n",
       "    .dataframe thead th {\n",
       "        text-align: right;\n",
       "    }\n",
       "</style>\n",
       "<table border=\"1\" class=\"dataframe\">\n",
       "  <thead>\n",
       "    <tr style=\"text-align: right;\">\n",
       "      <th></th>\n",
       "      <th>risk_level</th>\n",
       "      <th>Count</th>\n",
       "    </tr>\n",
       "  </thead>\n",
       "  <tbody>\n",
       "    <tr>\n",
       "      <th>1</th>\n",
       "      <td>Low Risk</td>\n",
       "      <td>8238</td>\n",
       "    </tr>\n",
       "    <tr>\n",
       "      <th>0</th>\n",
       "      <td>High Risk</td>\n",
       "      <td>1722</td>\n",
       "    </tr>\n",
       "    <tr>\n",
       "      <th>2</th>\n",
       "      <td>Moderate Risk</td>\n",
       "      <td>628</td>\n",
       "    </tr>\n",
       "  </tbody>\n",
       "</table>\n",
       "</div>"
      ],
      "text/plain": [
       "      risk_level  Count\n",
       "1       Low Risk   8238\n",
       "0      High Risk   1722\n",
       "2  Moderate Risk    628"
      ]
     },
     "execution_count": 104,
     "metadata": {},
     "output_type": "execute_result"
    }
   ],
   "source": [
    "df_summary.groupby('risk_level').size().reset_index(name='Count').sort_values('Count', ascending=False)"
   ]
  }
 ],
 "metadata": {
  "kernelspec": {
   "display_name": "DataSci",
   "language": "python",
   "name": "python3"
  },
  "language_info": {
   "codemirror_mode": {
    "name": "ipython",
    "version": 3
   },
   "file_extension": ".py",
   "mimetype": "text/x-python",
   "name": "python",
   "nbconvert_exporter": "python",
   "pygments_lexer": "ipython3",
   "version": "3.12.8"
  }
 },
 "nbformat": 4,
 "nbformat_minor": 5
}
